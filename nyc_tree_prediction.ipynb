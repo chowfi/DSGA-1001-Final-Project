{
 "cells": [
  {
   "cell_type": "markdown",
   "id": "bebfa78f",
   "metadata": {},
   "source": [
    "## DSGA 1001 - Tree Analysis (Prediction)\n",
    "### December 15, 2022\n",
    "Code by: Christine Gao and Fiona Chow\n"
   ]
  },
  {
   "cell_type": "code",
   "execution_count": 1,
   "id": "f378403b",
   "metadata": {},
   "outputs": [],
   "source": [
    "import pandas as pd\n",
    "import seaborn as sns\n",
    "import matplotlib\n",
    "import matplotlib.pyplot as plt\n",
    "import numpy as np\n",
    "import random\n",
    "from sklearn.preprocessing import LabelEncoder\n",
    "from sklearn.model_selection import train_test_split, GridSearchCV\n",
    "from sklearn import linear_model\n",
    "from sklearn.metrics import mean_squared_error\n",
    "from sklearn.metrics import r2_score\n",
    "from sklearn.preprocessing import PolynomialFeatures\n",
    "from sklearn.pipeline import make_pipeline"
   ]
  },
  {
   "cell_type": "code",
   "execution_count": 84,
   "id": "dd75c3fe",
   "metadata": {},
   "outputs": [],
   "source": [
    "rng = random.seed(18962882)\n",
    "# import importlib\n",
    "# importlib.reload(plt); importlib.reload(plt); importlib.reload(sns)"
   ]
  },
  {
   "cell_type": "code",
   "execution_count": 3,
   "id": "b8228ff8",
   "metadata": {},
   "outputs": [],
   "source": [
    "# import geopandas as gpd\n",
    "# from dbfread import DBF"
   ]
  },
  {
   "cell_type": "markdown",
   "id": "ae986db3",
   "metadata": {},
   "source": [
    "## EDA and Visualizations"
   ]
  },
  {
   "cell_type": "code",
   "execution_count": 4,
   "id": "570a4a54",
   "metadata": {},
   "outputs": [
    {
     "name": "stdout",
     "output_type": "stream",
     "text": [
      "<class 'pandas.core.frame.DataFrame'>\n",
      "RangeIndex: 683788 entries, 0 to 683787\n",
      "Data columns (total 41 columns):\n",
      " #   Column      Non-Null Count   Dtype  \n",
      "---  ------      --------------   -----  \n",
      " 0   tree_id     683788 non-null  int64  \n",
      " 1   block_id    683788 non-null  int64  \n",
      " 2   created_at  683788 non-null  object \n",
      " 3   tree_dbh    683788 non-null  int64  \n",
      " 4   stump_diam  683788 non-null  int64  \n",
      " 5   curb_loc    683788 non-null  object \n",
      " 6   status      683788 non-null  object \n",
      " 7   health      652172 non-null  object \n",
      " 8   spc_latin   652169 non-null  object \n",
      " 9   spc_common  652169 non-null  object \n",
      " 10  steward     652173 non-null  object \n",
      " 11  guards      652172 non-null  object \n",
      " 12  sidewalk    652172 non-null  object \n",
      " 13  user_type   683788 non-null  object \n",
      " 14  problems    652124 non-null  object \n",
      " 15  root_stone  683788 non-null  object \n",
      " 16  root_grate  683788 non-null  object \n",
      " 17  root_other  683788 non-null  object \n",
      " 18  trunk_wire  683788 non-null  object \n",
      " 19  trnk_light  683788 non-null  object \n",
      " 20  trnk_other  683788 non-null  object \n",
      " 21  brch_light  683788 non-null  object \n",
      " 22  brch_shoe   683788 non-null  object \n",
      " 23  brch_other  683788 non-null  object \n",
      " 24  address     683788 non-null  object \n",
      " 25  zipcode     683788 non-null  int64  \n",
      " 26  zip_city    683788 non-null  object \n",
      " 27  cb_num      683788 non-null  int64  \n",
      " 28  borocode    683788 non-null  int64  \n",
      " 29  boroname    683788 non-null  object \n",
      " 30  cncldist    683788 non-null  int64  \n",
      " 31  st_assem    683788 non-null  int64  \n",
      " 32  st_senate   683788 non-null  int64  \n",
      " 33  nta         683788 non-null  object \n",
      " 34  nta_name    683788 non-null  object \n",
      " 35  boro_ct     683788 non-null  int64  \n",
      " 36  state       683788 non-null  object \n",
      " 37  latitude    683788 non-null  float64\n",
      " 38  longitude   683788 non-null  float64\n",
      " 39  x_sp        683788 non-null  float64\n",
      " 40  y_sp        683788 non-null  float64\n",
      "dtypes: float64(4), int64(11), object(26)\n",
      "memory usage: 213.9+ MB\n"
     ]
    }
   ],
   "source": [
    "## Primary data set - NYC Street Tree Census from 2015\n",
    "census = pd.read_csv('new_york_tree_census_2015.csv')\n",
    "census.info()"
   ]
  },
  {
   "cell_type": "code",
   "execution_count": 5,
   "id": "f83ee3c2",
   "metadata": {
    "scrolled": false
   },
   "outputs": [
    {
     "data": {
      "text/plain": [
       "<AxesSubplot:xlabel='guards', ylabel='count'>"
      ]
     },
     "execution_count": 5,
     "metadata": {},
     "output_type": "execute_result"
    },
    {
     "data": {
      "image/png": "[encoded data removed]",
      "text/plain": [
       "<Figure size 576x1080 with 4 Axes>"
      ]
     },
     "metadata": {
      "needs_background": "light"
     },
     "output_type": "display_data"
    }
   ],
   "source": [
    "#categorical_features = ['spc_common', 'curb_loc', 'steward', 'health']\n",
    "fig, axs = plt.subplots(nrows = 4,  figsize=(8,15))\n",
    "\n",
    "sns.countplot(x=census['curb_loc'], ax=axs[0])\n",
    "sns.countplot(x=census['steward'], ax=axs[1])\n",
    "sns.countplot(x=census['health'], ax=axs[2])\n",
    "sns.countplot(x=census['guards'], ax=axs[3])"
   ]
  },
  {
   "cell_type": "code",
   "execution_count": null,
   "id": "c415aa8d",
   "metadata": {},
   "outputs": [],
   "source": []
  },
  {
   "cell_type": "code",
   "execution_count": 6,
   "id": "edc40d4b",
   "metadata": {},
   "outputs": [
    {
     "data": {
      "text/html": [
       "<div>\n",
       "<style scoped>\n",
       "    .dataframe tbody tr th:only-of-type {\n",
       "        vertical-align: middle;\n",
       "    }\n",
       "\n",
       "    .dataframe tbody tr th {\n",
       "        vertical-align: top;\n",
       "    }\n",
       "\n",
       "    .dataframe thead th {\n",
       "        text-align: right;\n",
       "    }\n",
       "</style>\n",
       "<table border=\"1\" class=\"dataframe\">\n",
       "  <thead>\n",
       "    <tr style=\"text-align: right;\">\n",
       "      <th></th>\n",
       "      <th>the_geom</th>\n",
       "      <th>BoroCode</th>\n",
       "      <th>BoroName</th>\n",
       "      <th>CountyFIPS</th>\n",
       "      <th>NTACode</th>\n",
       "      <th>NTAName</th>\n",
       "      <th>Shape_Leng</th>\n",
       "      <th>Shape_Area</th>\n",
       "    </tr>\n",
       "  </thead>\n",
       "  <tbody>\n",
       "    <tr>\n",
       "      <th>0</th>\n",
       "      <td>MULTIPOLYGON (((-73.94732672160586 40.62916656...</td>\n",
       "      <td>3</td>\n",
       "      <td>Brooklyn</td>\n",
       "      <td>47</td>\n",
       "      <td>BK43</td>\n",
       "      <td>Midwood</td>\n",
       "      <td>27,996.5912736</td>\n",
       "      <td>35,799,637.8103</td>\n",
       "    </tr>\n",
       "    <tr>\n",
       "      <th>1</th>\n",
       "      <td>MULTIPOLYGON (((-73.94193078816201 40.70072523...</td>\n",
       "      <td>3</td>\n",
       "      <td>Brooklyn</td>\n",
       "      <td>47</td>\n",
       "      <td>BK75</td>\n",
       "      <td>Bedford</td>\n",
       "      <td>29,992.9191744</td>\n",
       "      <td>32,629,833.1149</td>\n",
       "    </tr>\n",
       "    <tr>\n",
       "      <th>2</th>\n",
       "      <td>MULTIPOLYGON (((-73.89138023380268 40.86170058...</td>\n",
       "      <td>2</td>\n",
       "      <td>Bronx</td>\n",
       "      <td>5</td>\n",
       "      <td>BX40</td>\n",
       "      <td>Fordham South</td>\n",
       "      <td>15,878.2729212</td>\n",
       "      <td>6,307,283.62202</td>\n",
       "    </tr>\n",
       "    <tr>\n",
       "      <th>3</th>\n",
       "      <td>MULTIPOLYGON (((-73.9760493559142 40.631275905...</td>\n",
       "      <td>3</td>\n",
       "      <td>Brooklyn</td>\n",
       "      <td>47</td>\n",
       "      <td>BK88</td>\n",
       "      <td>Borough Park</td>\n",
       "      <td>39,247.227722</td>\n",
       "      <td>54,005,019.2286</td>\n",
       "    </tr>\n",
       "    <tr>\n",
       "      <th>4</th>\n",
       "      <td>MULTIPOLYGON (((-73.90855790522774 40.65209593...</td>\n",
       "      <td>3</td>\n",
       "      <td>Brooklyn</td>\n",
       "      <td>47</td>\n",
       "      <td>BK96</td>\n",
       "      <td>Rugby-Remsen Village</td>\n",
       "      <td>30,957.8533949</td>\n",
       "      <td>32,706,946.4035</td>\n",
       "    </tr>\n",
       "  </tbody>\n",
       "</table>\n",
       "</div>"
      ],
      "text/plain": [
       "                                            the_geom  BoroCode  BoroName  \\\n",
       "0  MULTIPOLYGON (((-73.94732672160586 40.62916656...         3  Brooklyn   \n",
       "1  MULTIPOLYGON (((-73.94193078816201 40.70072523...         3  Brooklyn   \n",
       "2  MULTIPOLYGON (((-73.89138023380268 40.86170058...         2     Bronx   \n",
       "3  MULTIPOLYGON (((-73.9760493559142 40.631275905...         3  Brooklyn   \n",
       "4  MULTIPOLYGON (((-73.90855790522774 40.65209593...         3  Brooklyn   \n",
       "\n",
       "   CountyFIPS NTACode               NTAName      Shape_Leng       Shape_Area  \n",
       "0          47    BK43               Midwood  27,996.5912736  35,799,637.8103  \n",
       "1          47    BK75               Bedford  29,992.9191744  32,629,833.1149  \n",
       "2           5    BX40         Fordham South  15,878.2729212  6,307,283.62202  \n",
       "3          47    BK88          Borough Park   39,247.227722  54,005,019.2286  \n",
       "4          47    BK96  Rugby-Remsen Village  30,957.8533949  32,706,946.4035  "
      ]
     },
     "execution_count": 6,
     "metadata": {},
     "output_type": "execute_result"
    }
   ],
   "source": [
    "## NYC NTA with corrosponding codes and neighborhood areas\n",
    "nta = pd.read_csv('nynta.csv')\n",
    "nta.head()"
   ]
  },
  {
   "cell_type": "code",
   "execution_count": 7,
   "id": "0eb91e1c",
   "metadata": {},
   "outputs": [],
   "source": [
    "nta = nta.rename(columns={'NTACode': \"nta\"})"
   ]
  },
  {
   "cell_type": "code",
   "execution_count": 8,
   "id": "30f644a5",
   "metadata": {},
   "outputs": [
    {
     "data": {
      "text/html": [
       "<div>\n",
       "<style scoped>\n",
       "    .dataframe tbody tr th:only-of-type {\n",
       "        vertical-align: middle;\n",
       "    }\n",
       "\n",
       "    .dataframe tbody tr th {\n",
       "        vertical-align: top;\n",
       "    }\n",
       "\n",
       "    .dataframe thead th {\n",
       "        text-align: right;\n",
       "    }\n",
       "</style>\n",
       "<table border=\"1\" class=\"dataframe\">\n",
       "  <thead>\n",
       "    <tr style=\"text-align: right;\">\n",
       "      <th></th>\n",
       "      <th>tree_id</th>\n",
       "      <th>block_id</th>\n",
       "      <th>created_at</th>\n",
       "      <th>tree_dbh</th>\n",
       "      <th>stump_diam</th>\n",
       "      <th>curb_loc</th>\n",
       "      <th>status</th>\n",
       "      <th>health</th>\n",
       "      <th>spc_latin</th>\n",
       "      <th>spc_common</th>\n",
       "      <th>...</th>\n",
       "      <th>longitude</th>\n",
       "      <th>x_sp</th>\n",
       "      <th>y_sp</th>\n",
       "      <th>the_geom</th>\n",
       "      <th>BoroCode</th>\n",
       "      <th>BoroName</th>\n",
       "      <th>CountyFIPS</th>\n",
       "      <th>NTAName</th>\n",
       "      <th>Shape_Leng</th>\n",
       "      <th>Shape_Area</th>\n",
       "    </tr>\n",
       "  </thead>\n",
       "  <tbody>\n",
       "    <tr>\n",
       "      <th>0</th>\n",
       "      <td>606945</td>\n",
       "      <td>305778</td>\n",
       "      <td>2016-06-28</td>\n",
       "      <td>10</td>\n",
       "      <td>0</td>\n",
       "      <td>OnCurb</td>\n",
       "      <td>Alive</td>\n",
       "      <td>Good</td>\n",
       "      <td>Fraxinus pennsylvanica</td>\n",
       "      <td>green ash</td>\n",
       "      <td>...</td>\n",
       "      <td>-73.805180</td>\n",
       "      <td>1038250.055</td>\n",
       "      <td>203232.9417</td>\n",
       "      <td>MULTIPOLYGON (((-73.81497208257481 40.73856071...</td>\n",
       "      <td>4</td>\n",
       "      <td>Queens</td>\n",
       "      <td>81</td>\n",
       "      <td>Kew Gardens Hills</td>\n",
       "      <td>33,109.3220103</td>\n",
       "      <td>37,891,124.4813</td>\n",
       "    </tr>\n",
       "    <tr>\n",
       "      <th>1</th>\n",
       "      <td>679996</td>\n",
       "      <td>307398</td>\n",
       "      <td>2016-08-25</td>\n",
       "      <td>4</td>\n",
       "      <td>0</td>\n",
       "      <td>OnCurb</td>\n",
       "      <td>Alive</td>\n",
       "      <td>Good</td>\n",
       "      <td>Quercus palustris</td>\n",
       "      <td>pin oak</td>\n",
       "      <td>...</td>\n",
       "      <td>-73.823070</td>\n",
       "      <td>1033288.667</td>\n",
       "      <td>204501.9562</td>\n",
       "      <td>MULTIPOLYGON (((-73.81497208257481 40.73856071...</td>\n",
       "      <td>4</td>\n",
       "      <td>Queens</td>\n",
       "      <td>81</td>\n",
       "      <td>Kew Gardens Hills</td>\n",
       "      <td>33,109.3220103</td>\n",
       "      <td>37,891,124.4813</td>\n",
       "    </tr>\n",
       "    <tr>\n",
       "      <th>2</th>\n",
       "      <td>680506</td>\n",
       "      <td>307388</td>\n",
       "      <td>2016-08-25</td>\n",
       "      <td>4</td>\n",
       "      <td>0</td>\n",
       "      <td>OnCurb</td>\n",
       "      <td>Alive</td>\n",
       "      <td>Good</td>\n",
       "      <td>Carpinus betulus</td>\n",
       "      <td>European hornbeam</td>\n",
       "      <td>...</td>\n",
       "      <td>-73.819915</td>\n",
       "      <td>1034165.471</td>\n",
       "      <td>203462.1729</td>\n",
       "      <td>MULTIPOLYGON (((-73.81497208257481 40.73856071...</td>\n",
       "      <td>4</td>\n",
       "      <td>Queens</td>\n",
       "      <td>81</td>\n",
       "      <td>Kew Gardens Hills</td>\n",
       "      <td>33,109.3220103</td>\n",
       "      <td>37,891,124.4813</td>\n",
       "    </tr>\n",
       "    <tr>\n",
       "      <th>3</th>\n",
       "      <td>691878</td>\n",
       "      <td>305754</td>\n",
       "      <td>2016-09-01</td>\n",
       "      <td>17</td>\n",
       "      <td>0</td>\n",
       "      <td>OffsetFromCurb</td>\n",
       "      <td>Alive</td>\n",
       "      <td>Good</td>\n",
       "      <td>Quercus phellos</td>\n",
       "      <td>willow oak</td>\n",
       "      <td>...</td>\n",
       "      <td>-73.813822</td>\n",
       "      <td>1035854.144</td>\n",
       "      <td>203506.7804</td>\n",
       "      <td>MULTIPOLYGON (((-73.81497208257481 40.73856071...</td>\n",
       "      <td>4</td>\n",
       "      <td>Queens</td>\n",
       "      <td>81</td>\n",
       "      <td>Kew Gardens Hills</td>\n",
       "      <td>33,109.3220103</td>\n",
       "      <td>37,891,124.4813</td>\n",
       "    </tr>\n",
       "    <tr>\n",
       "      <th>4</th>\n",
       "      <td>692503</td>\n",
       "      <td>307786</td>\n",
       "      <td>2016-09-01</td>\n",
       "      <td>15</td>\n",
       "      <td>0</td>\n",
       "      <td>OnCurb</td>\n",
       "      <td>Alive</td>\n",
       "      <td>Good</td>\n",
       "      <td>Fraxinus pennsylvanica</td>\n",
       "      <td>green ash</td>\n",
       "      <td>...</td>\n",
       "      <td>-73.822124</td>\n",
       "      <td>1033558.531</td>\n",
       "      <td>200722.5845</td>\n",
       "      <td>MULTIPOLYGON (((-73.81497208257481 40.73856071...</td>\n",
       "      <td>4</td>\n",
       "      <td>Queens</td>\n",
       "      <td>81</td>\n",
       "      <td>Kew Gardens Hills</td>\n",
       "      <td>33,109.3220103</td>\n",
       "      <td>37,891,124.4813</td>\n",
       "    </tr>\n",
       "  </tbody>\n",
       "</table>\n",
       "<p>5 rows × 48 columns</p>\n",
       "</div>"
      ],
      "text/plain": [
       "   tree_id  block_id  created_at  tree_dbh  stump_diam        curb_loc status  \\\n",
       "0   606945    305778  2016-06-28        10           0          OnCurb  Alive   \n",
       "1   679996    307398  2016-08-25         4           0          OnCurb  Alive   \n",
       "2   680506    307388  2016-08-25         4           0          OnCurb  Alive   \n",
       "3   691878    305754  2016-09-01        17           0  OffsetFromCurb  Alive   \n",
       "4   692503    307786  2016-09-01        15           0          OnCurb  Alive   \n",
       "\n",
       "  health               spc_latin         spc_common  ...  longitude  \\\n",
       "0   Good  Fraxinus pennsylvanica          green ash  ... -73.805180   \n",
       "1   Good       Quercus palustris            pin oak  ... -73.823070   \n",
       "2   Good        Carpinus betulus  European hornbeam  ... -73.819915   \n",
       "3   Good         Quercus phellos         willow oak  ... -73.813822   \n",
       "4   Good  Fraxinus pennsylvanica          green ash  ... -73.822124   \n",
       "\n",
       "          x_sp         y_sp  \\\n",
       "0  1038250.055  203232.9417   \n",
       "1  1033288.667  204501.9562   \n",
       "2  1034165.471  203462.1729   \n",
       "3  1035854.144  203506.7804   \n",
       "4  1033558.531  200722.5845   \n",
       "\n",
       "                                            the_geom BoroCode BoroName  \\\n",
       "0  MULTIPOLYGON (((-73.81497208257481 40.73856071...        4   Queens   \n",
       "1  MULTIPOLYGON (((-73.81497208257481 40.73856071...        4   Queens   \n",
       "2  MULTIPOLYGON (((-73.81497208257481 40.73856071...        4   Queens   \n",
       "3  MULTIPOLYGON (((-73.81497208257481 40.73856071...        4   Queens   \n",
       "4  MULTIPOLYGON (((-73.81497208257481 40.73856071...        4   Queens   \n",
       "\n",
       "  CountyFIPS            NTAName      Shape_Leng       Shape_Area  \n",
       "0         81  Kew Gardens Hills  33,109.3220103  37,891,124.4813  \n",
       "1         81  Kew Gardens Hills  33,109.3220103  37,891,124.4813  \n",
       "2         81  Kew Gardens Hills  33,109.3220103  37,891,124.4813  \n",
       "3         81  Kew Gardens Hills  33,109.3220103  37,891,124.4813  \n",
       "4         81  Kew Gardens Hills  33,109.3220103  37,891,124.4813  \n",
       "\n",
       "[5 rows x 48 columns]"
      ]
     },
     "execution_count": 8,
     "metadata": {},
     "output_type": "execute_result"
    }
   ],
   "source": [
    "#df = census merged on nta\n",
    "df = pd.merge(census, nta, on='nta')\n",
    "df.head()"
   ]
  },
  {
   "cell_type": "code",
   "execution_count": 9,
   "id": "a9a399ef",
   "metadata": {
    "scrolled": false
   },
   "outputs": [
    {
     "name": "stderr",
     "output_type": "stream",
     "text": [
      "/Users/christinegao/opt/anaconda3/lib/python3.9/site-packages/seaborn/_decorators.py:36: FutureWarning: Pass the following variable as a keyword arg: x. From version 0.12, the only valid positional argument will be `data`, and passing other arguments without an explicit keyword will result in an error or misinterpretation.\n",
      "  warnings.warn(\n"
     ]
    },
    {
     "data": {
      "text/plain": [
       "<AxesSubplot:xlabel='tree_dbh'>"
      ]
     },
     "execution_count": 9,
     "metadata": {},
     "output_type": "execute_result"
    },
    {
     "data": {
      "image/png": "[encoded data removed]",
      "text/plain": [
       "<Figure size 720x432 with 1 Axes>"
      ]
     },
     "metadata": {
      "needs_background": "light"
     },
     "output_type": "display_data"
    }
   ],
   "source": [
    "plt.figure(figsize=(10,6))\n",
    "sns.boxplot(df['tree_dbh'])\n",
    "\n",
    "##observe outliers in the tree diameter - we will normalize this"
   ]
  },
  {
   "cell_type": "code",
   "execution_count": null,
   "id": "633710c6",
   "metadata": {},
   "outputs": [],
   "source": []
  },
  {
   "cell_type": "markdown",
   "id": "4240e667",
   "metadata": {},
   "source": [
    "## Data Cleaning / Preprocessing\n",
    "\n",
    "For our analysis, we will investigate only the live trees."
   ]
  },
  {
   "cell_type": "code",
   "execution_count": 10,
   "id": "dcb1c06f",
   "metadata": {},
   "outputs": [
    {
     "data": {
      "text/html": [
       "<div>\n",
       "<style scoped>\n",
       "    .dataframe tbody tr th:only-of-type {\n",
       "        vertical-align: middle;\n",
       "    }\n",
       "\n",
       "    .dataframe tbody tr th {\n",
       "        vertical-align: top;\n",
       "    }\n",
       "\n",
       "    .dataframe thead th {\n",
       "        text-align: right;\n",
       "    }\n",
       "</style>\n",
       "<table border=\"1\" class=\"dataframe\">\n",
       "  <thead>\n",
       "    <tr style=\"text-align: right;\">\n",
       "      <th></th>\n",
       "      <th>tree_id</th>\n",
       "      <th>block_id</th>\n",
       "      <th>created_at</th>\n",
       "      <th>tree_dbh</th>\n",
       "      <th>stump_diam</th>\n",
       "      <th>curb_loc</th>\n",
       "      <th>status</th>\n",
       "      <th>health</th>\n",
       "      <th>spc_latin</th>\n",
       "      <th>spc_common</th>\n",
       "      <th>...</th>\n",
       "      <th>longitude</th>\n",
       "      <th>x_sp</th>\n",
       "      <th>y_sp</th>\n",
       "      <th>the_geom</th>\n",
       "      <th>BoroCode</th>\n",
       "      <th>BoroName</th>\n",
       "      <th>CountyFIPS</th>\n",
       "      <th>NTAName</th>\n",
       "      <th>Shape_Leng</th>\n",
       "      <th>Shape_Area</th>\n",
       "    </tr>\n",
       "  </thead>\n",
       "  <tbody>\n",
       "    <tr>\n",
       "      <th>0</th>\n",
       "      <td>606945</td>\n",
       "      <td>305778</td>\n",
       "      <td>2016-06-28</td>\n",
       "      <td>10</td>\n",
       "      <td>0</td>\n",
       "      <td>OnCurb</td>\n",
       "      <td>Alive</td>\n",
       "      <td>Good</td>\n",
       "      <td>Fraxinus pennsylvanica</td>\n",
       "      <td>green ash</td>\n",
       "      <td>...</td>\n",
       "      <td>-73.805180</td>\n",
       "      <td>1038250.055</td>\n",
       "      <td>203232.9417</td>\n",
       "      <td>MULTIPOLYGON (((-73.81497208257481 40.73856071...</td>\n",
       "      <td>4</td>\n",
       "      <td>Queens</td>\n",
       "      <td>81</td>\n",
       "      <td>Kew Gardens Hills</td>\n",
       "      <td>33,109.3220103</td>\n",
       "      <td>37,891,124.4813</td>\n",
       "    </tr>\n",
       "    <tr>\n",
       "      <th>1</th>\n",
       "      <td>679996</td>\n",
       "      <td>307398</td>\n",
       "      <td>2016-08-25</td>\n",
       "      <td>4</td>\n",
       "      <td>0</td>\n",
       "      <td>OnCurb</td>\n",
       "      <td>Alive</td>\n",
       "      <td>Good</td>\n",
       "      <td>Quercus palustris</td>\n",
       "      <td>pin oak</td>\n",
       "      <td>...</td>\n",
       "      <td>-73.823070</td>\n",
       "      <td>1033288.667</td>\n",
       "      <td>204501.9562</td>\n",
       "      <td>MULTIPOLYGON (((-73.81497208257481 40.73856071...</td>\n",
       "      <td>4</td>\n",
       "      <td>Queens</td>\n",
       "      <td>81</td>\n",
       "      <td>Kew Gardens Hills</td>\n",
       "      <td>33,109.3220103</td>\n",
       "      <td>37,891,124.4813</td>\n",
       "    </tr>\n",
       "    <tr>\n",
       "      <th>2</th>\n",
       "      <td>680506</td>\n",
       "      <td>307388</td>\n",
       "      <td>2016-08-25</td>\n",
       "      <td>4</td>\n",
       "      <td>0</td>\n",
       "      <td>OnCurb</td>\n",
       "      <td>Alive</td>\n",
       "      <td>Good</td>\n",
       "      <td>Carpinus betulus</td>\n",
       "      <td>European hornbeam</td>\n",
       "      <td>...</td>\n",
       "      <td>-73.819915</td>\n",
       "      <td>1034165.471</td>\n",
       "      <td>203462.1729</td>\n",
       "      <td>MULTIPOLYGON (((-73.81497208257481 40.73856071...</td>\n",
       "      <td>4</td>\n",
       "      <td>Queens</td>\n",
       "      <td>81</td>\n",
       "      <td>Kew Gardens Hills</td>\n",
       "      <td>33,109.3220103</td>\n",
       "      <td>37,891,124.4813</td>\n",
       "    </tr>\n",
       "    <tr>\n",
       "      <th>3</th>\n",
       "      <td>691878</td>\n",
       "      <td>305754</td>\n",
       "      <td>2016-09-01</td>\n",
       "      <td>17</td>\n",
       "      <td>0</td>\n",
       "      <td>OffsetFromCurb</td>\n",
       "      <td>Alive</td>\n",
       "      <td>Good</td>\n",
       "      <td>Quercus phellos</td>\n",
       "      <td>willow oak</td>\n",
       "      <td>...</td>\n",
       "      <td>-73.813822</td>\n",
       "      <td>1035854.144</td>\n",
       "      <td>203506.7804</td>\n",
       "      <td>MULTIPOLYGON (((-73.81497208257481 40.73856071...</td>\n",
       "      <td>4</td>\n",
       "      <td>Queens</td>\n",
       "      <td>81</td>\n",
       "      <td>Kew Gardens Hills</td>\n",
       "      <td>33,109.3220103</td>\n",
       "      <td>37,891,124.4813</td>\n",
       "    </tr>\n",
       "    <tr>\n",
       "      <th>4</th>\n",
       "      <td>692503</td>\n",
       "      <td>307786</td>\n",
       "      <td>2016-09-01</td>\n",
       "      <td>15</td>\n",
       "      <td>0</td>\n",
       "      <td>OnCurb</td>\n",
       "      <td>Alive</td>\n",
       "      <td>Good</td>\n",
       "      <td>Fraxinus pennsylvanica</td>\n",
       "      <td>green ash</td>\n",
       "      <td>...</td>\n",
       "      <td>-73.822124</td>\n",
       "      <td>1033558.531</td>\n",
       "      <td>200722.5845</td>\n",
       "      <td>MULTIPOLYGON (((-73.81497208257481 40.73856071...</td>\n",
       "      <td>4</td>\n",
       "      <td>Queens</td>\n",
       "      <td>81</td>\n",
       "      <td>Kew Gardens Hills</td>\n",
       "      <td>33,109.3220103</td>\n",
       "      <td>37,891,124.4813</td>\n",
       "    </tr>\n",
       "  </tbody>\n",
       "</table>\n",
       "<p>5 rows × 48 columns</p>\n",
       "</div>"
      ],
      "text/plain": [
       "   tree_id  block_id  created_at  tree_dbh  stump_diam        curb_loc status  \\\n",
       "0   606945    305778  2016-06-28        10           0          OnCurb  Alive   \n",
       "1   679996    307398  2016-08-25         4           0          OnCurb  Alive   \n",
       "2   680506    307388  2016-08-25         4           0          OnCurb  Alive   \n",
       "3   691878    305754  2016-09-01        17           0  OffsetFromCurb  Alive   \n",
       "4   692503    307786  2016-09-01        15           0          OnCurb  Alive   \n",
       "\n",
       "  health               spc_latin         spc_common  ...  longitude  \\\n",
       "0   Good  Fraxinus pennsylvanica          green ash  ... -73.805180   \n",
       "1   Good       Quercus palustris            pin oak  ... -73.823070   \n",
       "2   Good        Carpinus betulus  European hornbeam  ... -73.819915   \n",
       "3   Good         Quercus phellos         willow oak  ... -73.813822   \n",
       "4   Good  Fraxinus pennsylvanica          green ash  ... -73.822124   \n",
       "\n",
       "          x_sp         y_sp  \\\n",
       "0  1038250.055  203232.9417   \n",
       "1  1033288.667  204501.9562   \n",
       "2  1034165.471  203462.1729   \n",
       "3  1035854.144  203506.7804   \n",
       "4  1033558.531  200722.5845   \n",
       "\n",
       "                                            the_geom BoroCode BoroName  \\\n",
       "0  MULTIPOLYGON (((-73.81497208257481 40.73856071...        4   Queens   \n",
       "1  MULTIPOLYGON (((-73.81497208257481 40.73856071...        4   Queens   \n",
       "2  MULTIPOLYGON (((-73.81497208257481 40.73856071...        4   Queens   \n",
       "3  MULTIPOLYGON (((-73.81497208257481 40.73856071...        4   Queens   \n",
       "4  MULTIPOLYGON (((-73.81497208257481 40.73856071...        4   Queens   \n",
       "\n",
       "  CountyFIPS            NTAName      Shape_Leng       Shape_Area  \n",
       "0         81  Kew Gardens Hills  33,109.3220103  37,891,124.4813  \n",
       "1         81  Kew Gardens Hills  33,109.3220103  37,891,124.4813  \n",
       "2         81  Kew Gardens Hills  33,109.3220103  37,891,124.4813  \n",
       "3         81  Kew Gardens Hills  33,109.3220103  37,891,124.4813  \n",
       "4         81  Kew Gardens Hills  33,109.3220103  37,891,124.4813  \n",
       "\n",
       "[5 rows x 48 columns]"
      ]
     },
     "execution_count": 10,
     "metadata": {},
     "output_type": "execute_result"
    }
   ],
   "source": [
    "## Removal of dead trees and stumps \n",
    "df1 = df[df[\"status\"].str.contains(\"Dead|Stump\")==False]\n",
    "df1.head()"
   ]
  },
  {
   "cell_type": "code",
   "execution_count": 11,
   "id": "096ad84e",
   "metadata": {},
   "outputs": [
    {
     "data": {
      "text/plain": [
       "(array([6.50597e+05, 1.49400e+03, 3.10000e+01, 2.10000e+01, 1.30000e+01,\n",
       "        5.00000e+00, 7.00000e+00, 3.00000e+00, 0.00000e+00, 2.00000e+00]),\n",
       " array([  0. ,  42.5,  85. , 127.5, 170. , 212.5, 255. , 297.5, 340. ,\n",
       "        382.5, 425. ]),\n",
       " <BarContainer object of 10 artists>)"
      ]
     },
     "execution_count": 11,
     "metadata": {},
     "output_type": "execute_result"
    },
    {
     "data": {
      "image/png": "[encoded data removed]",
      "text/plain": [
       "<Figure size 432x288 with 1 Axes>"
      ]
     },
     "metadata": {
      "needs_background": "light"
     },
     "output_type": "display_data"
    }
   ],
   "source": [
    "plt.figure(figsize=(6,4))\n",
    "plt.hist(df1['tree_dbh'])"
   ]
  },
  {
   "cell_type": "code",
   "execution_count": 12,
   "id": "615442ed",
   "metadata": {},
   "outputs": [],
   "source": [
    "lower = df1['tree_dbh'].quantile(0.01)\n",
    "upper = df1['tree_dbh'].quantile(0.99)\n",
    "\n",
    "df2 = df1[(df1['tree_dbh'] < upper) & (df1['tree_dbh'] > lower)]"
   ]
  },
  {
   "cell_type": "code",
   "execution_count": 13,
   "id": "7d0a6aae",
   "metadata": {},
   "outputs": [
    {
     "data": {
      "image/png": "[encoded data removed]",
      "text/plain": [
       "<Figure size 432x288 with 1 Axes>"
      ]
     },
     "metadata": {
      "needs_background": "light"
     },
     "output_type": "display_data"
    }
   ],
   "source": [
    "## New histogram omitting outliers within a 98% range\n",
    "plt.figure(figsize=(6,4))\n",
    "\n",
    "plt.hist(df2['tree_dbh'])\n",
    "census_clean=df2"
   ]
  },
  {
   "cell_type": "code",
   "execution_count": null,
   "id": "5ffd49c6",
   "metadata": {},
   "outputs": [],
   "source": []
  },
  {
   "cell_type": "code",
   "execution_count": 14,
   "id": "c07aea76",
   "metadata": {},
   "outputs": [
    {
     "data": {
      "text/html": [
       "<div>\n",
       "<style scoped>\n",
       "    .dataframe tbody tr th:only-of-type {\n",
       "        vertical-align: middle;\n",
       "    }\n",
       "\n",
       "    .dataframe tbody tr th {\n",
       "        vertical-align: top;\n",
       "    }\n",
       "\n",
       "    .dataframe thead th {\n",
       "        text-align: right;\n",
       "    }\n",
       "</style>\n",
       "<table border=\"1\" class=\"dataframe\">\n",
       "  <thead>\n",
       "    <tr style=\"text-align: right;\">\n",
       "      <th></th>\n",
       "      <th>tree_id</th>\n",
       "      <th>block_id</th>\n",
       "      <th>created_at</th>\n",
       "      <th>tree_dbh</th>\n",
       "      <th>stump_diam</th>\n",
       "      <th>curb_loc</th>\n",
       "      <th>status</th>\n",
       "      <th>health</th>\n",
       "      <th>spc_latin</th>\n",
       "      <th>spc_common</th>\n",
       "      <th>...</th>\n",
       "      <th>x_sp</th>\n",
       "      <th>y_sp</th>\n",
       "      <th>the_geom</th>\n",
       "      <th>BoroCode</th>\n",
       "      <th>BoroName</th>\n",
       "      <th>CountyFIPS</th>\n",
       "      <th>NTAName</th>\n",
       "      <th>Shape_Leng</th>\n",
       "      <th>Shape_Area</th>\n",
       "      <th>tree counts</th>\n",
       "    </tr>\n",
       "  </thead>\n",
       "  <tbody>\n",
       "    <tr>\n",
       "      <th>0</th>\n",
       "      <td>606945</td>\n",
       "      <td>305778</td>\n",
       "      <td>2016-06-28</td>\n",
       "      <td>10</td>\n",
       "      <td>0</td>\n",
       "      <td>OnCurb</td>\n",
       "      <td>Alive</td>\n",
       "      <td>Good</td>\n",
       "      <td>Fraxinus pennsylvanica</td>\n",
       "      <td>green ash</td>\n",
       "      <td>...</td>\n",
       "      <td>1038250.055</td>\n",
       "      <td>203232.9417</td>\n",
       "      <td>MULTIPOLYGON (((-73.81497208257481 40.73856071...</td>\n",
       "      <td>4</td>\n",
       "      <td>Queens</td>\n",
       "      <td>81</td>\n",
       "      <td>Kew Gardens Hills</td>\n",
       "      <td>33,109.3220103</td>\n",
       "      <td>37,891,124.4813</td>\n",
       "      <td>4497</td>\n",
       "    </tr>\n",
       "    <tr>\n",
       "      <th>1</th>\n",
       "      <td>679996</td>\n",
       "      <td>307398</td>\n",
       "      <td>2016-08-25</td>\n",
       "      <td>4</td>\n",
       "      <td>0</td>\n",
       "      <td>OnCurb</td>\n",
       "      <td>Alive</td>\n",
       "      <td>Good</td>\n",
       "      <td>Quercus palustris</td>\n",
       "      <td>pin oak</td>\n",
       "      <td>...</td>\n",
       "      <td>1033288.667</td>\n",
       "      <td>204501.9562</td>\n",
       "      <td>MULTIPOLYGON (((-73.81497208257481 40.73856071...</td>\n",
       "      <td>4</td>\n",
       "      <td>Queens</td>\n",
       "      <td>81</td>\n",
       "      <td>Kew Gardens Hills</td>\n",
       "      <td>33,109.3220103</td>\n",
       "      <td>37,891,124.4813</td>\n",
       "      <td>4497</td>\n",
       "    </tr>\n",
       "    <tr>\n",
       "      <th>2</th>\n",
       "      <td>680506</td>\n",
       "      <td>307388</td>\n",
       "      <td>2016-08-25</td>\n",
       "      <td>4</td>\n",
       "      <td>0</td>\n",
       "      <td>OnCurb</td>\n",
       "      <td>Alive</td>\n",
       "      <td>Good</td>\n",
       "      <td>Carpinus betulus</td>\n",
       "      <td>European hornbeam</td>\n",
       "      <td>...</td>\n",
       "      <td>1034165.471</td>\n",
       "      <td>203462.1729</td>\n",
       "      <td>MULTIPOLYGON (((-73.81497208257481 40.73856071...</td>\n",
       "      <td>4</td>\n",
       "      <td>Queens</td>\n",
       "      <td>81</td>\n",
       "      <td>Kew Gardens Hills</td>\n",
       "      <td>33,109.3220103</td>\n",
       "      <td>37,891,124.4813</td>\n",
       "      <td>4497</td>\n",
       "    </tr>\n",
       "    <tr>\n",
       "      <th>3</th>\n",
       "      <td>691878</td>\n",
       "      <td>305754</td>\n",
       "      <td>2016-09-01</td>\n",
       "      <td>17</td>\n",
       "      <td>0</td>\n",
       "      <td>OffsetFromCurb</td>\n",
       "      <td>Alive</td>\n",
       "      <td>Good</td>\n",
       "      <td>Quercus phellos</td>\n",
       "      <td>willow oak</td>\n",
       "      <td>...</td>\n",
       "      <td>1035854.144</td>\n",
       "      <td>203506.7804</td>\n",
       "      <td>MULTIPOLYGON (((-73.81497208257481 40.73856071...</td>\n",
       "      <td>4</td>\n",
       "      <td>Queens</td>\n",
       "      <td>81</td>\n",
       "      <td>Kew Gardens Hills</td>\n",
       "      <td>33,109.3220103</td>\n",
       "      <td>37,891,124.4813</td>\n",
       "      <td>4497</td>\n",
       "    </tr>\n",
       "    <tr>\n",
       "      <th>4</th>\n",
       "      <td>692503</td>\n",
       "      <td>307786</td>\n",
       "      <td>2016-09-01</td>\n",
       "      <td>15</td>\n",
       "      <td>0</td>\n",
       "      <td>OnCurb</td>\n",
       "      <td>Alive</td>\n",
       "      <td>Good</td>\n",
       "      <td>Fraxinus pennsylvanica</td>\n",
       "      <td>green ash</td>\n",
       "      <td>...</td>\n",
       "      <td>1033558.531</td>\n",
       "      <td>200722.5845</td>\n",
       "      <td>MULTIPOLYGON (((-73.81497208257481 40.73856071...</td>\n",
       "      <td>4</td>\n",
       "      <td>Queens</td>\n",
       "      <td>81</td>\n",
       "      <td>Kew Gardens Hills</td>\n",
       "      <td>33,109.3220103</td>\n",
       "      <td>37,891,124.4813</td>\n",
       "      <td>4497</td>\n",
       "    </tr>\n",
       "  </tbody>\n",
       "</table>\n",
       "<p>5 rows × 49 columns</p>\n",
       "</div>"
      ],
      "text/plain": [
       "   tree_id  block_id  created_at  tree_dbh  stump_diam        curb_loc status  \\\n",
       "0   606945    305778  2016-06-28        10           0          OnCurb  Alive   \n",
       "1   679996    307398  2016-08-25         4           0          OnCurb  Alive   \n",
       "2   680506    307388  2016-08-25         4           0          OnCurb  Alive   \n",
       "3   691878    305754  2016-09-01        17           0  OffsetFromCurb  Alive   \n",
       "4   692503    307786  2016-09-01        15           0          OnCurb  Alive   \n",
       "\n",
       "  health               spc_latin         spc_common  ...         x_sp  \\\n",
       "0   Good  Fraxinus pennsylvanica          green ash  ...  1038250.055   \n",
       "1   Good       Quercus palustris            pin oak  ...  1033288.667   \n",
       "2   Good        Carpinus betulus  European hornbeam  ...  1034165.471   \n",
       "3   Good         Quercus phellos         willow oak  ...  1035854.144   \n",
       "4   Good  Fraxinus pennsylvanica          green ash  ...  1033558.531   \n",
       "\n",
       "          y_sp                                           the_geom BoroCode  \\\n",
       "0  203232.9417  MULTIPOLYGON (((-73.81497208257481 40.73856071...        4   \n",
       "1  204501.9562  MULTIPOLYGON (((-73.81497208257481 40.73856071...        4   \n",
       "2  203462.1729  MULTIPOLYGON (((-73.81497208257481 40.73856071...        4   \n",
       "3  203506.7804  MULTIPOLYGON (((-73.81497208257481 40.73856071...        4   \n",
       "4  200722.5845  MULTIPOLYGON (((-73.81497208257481 40.73856071...        4   \n",
       "\n",
       "  BoroName CountyFIPS            NTAName      Shape_Leng       Shape_Area  \\\n",
       "0   Queens         81  Kew Gardens Hills  33,109.3220103  37,891,124.4813   \n",
       "1   Queens         81  Kew Gardens Hills  33,109.3220103  37,891,124.4813   \n",
       "2   Queens         81  Kew Gardens Hills  33,109.3220103  37,891,124.4813   \n",
       "3   Queens         81  Kew Gardens Hills  33,109.3220103  37,891,124.4813   \n",
       "4   Queens         81  Kew Gardens Hills  33,109.3220103  37,891,124.4813   \n",
       "\n",
       "  tree counts  \n",
       "0        4497  \n",
       "1        4497  \n",
       "2        4497  \n",
       "3        4497  \n",
       "4        4497  \n",
       "\n",
       "[5 rows x 49 columns]"
      ]
     },
     "execution_count": 14,
     "metadata": {},
     "output_type": "execute_result"
    }
   ],
   "source": [
    "# calculating tree counts by nta \n",
    "tree_nta = pd.DataFrame(census_clean.groupby('nta')['tree_id'].count())\n",
    "tree_nta1 = tree_nta.reset_index()\n",
    "tree_nta2 = tree_nta1.rename(columns={'tree_id':'tree counts'})\n",
    "tree_nta_density = pd.merge(census_clean, tree_nta2, on='nta')\n",
    "tree_nta_density.head()"
   ]
  },
  {
   "cell_type": "code",
   "execution_count": 15,
   "id": "157ae476",
   "metadata": {},
   "outputs": [],
   "source": [
    "tree_nta_density['Shape_Area'] = census_clean['Shape_Area'].apply(lambda x: float(x.split()[0].replace(',', '')))\n",
    "tree_nta_density['tree density'] = tree_nta_density['tree counts']/tree_nta_density['Shape_Area']\n",
    "##tree_nta_density_final - contains tree density (tree count per nta divided by area of each nta)"
   ]
  },
  {
   "cell_type": "code",
   "execution_count": 16,
   "id": "09f6a3e6",
   "metadata": {},
   "outputs": [
    {
     "data": {
      "text/html": [
       "<div>\n",
       "<style scoped>\n",
       "    .dataframe tbody tr th:only-of-type {\n",
       "        vertical-align: middle;\n",
       "    }\n",
       "\n",
       "    .dataframe tbody tr th {\n",
       "        vertical-align: top;\n",
       "    }\n",
       "\n",
       "    .dataframe thead th {\n",
       "        text-align: right;\n",
       "    }\n",
       "</style>\n",
       "<table border=\"1\" class=\"dataframe\">\n",
       "  <thead>\n",
       "    <tr style=\"text-align: right;\">\n",
       "      <th></th>\n",
       "      <th>tree_id</th>\n",
       "      <th>health</th>\n",
       "      <th>status</th>\n",
       "      <th>tree_dbh</th>\n",
       "      <th>nta</th>\n",
       "      <th>Shape_Area</th>\n",
       "      <th>tree counts</th>\n",
       "      <th>tree density</th>\n",
       "    </tr>\n",
       "  </thead>\n",
       "  <tbody>\n",
       "    <tr>\n",
       "      <th>0</th>\n",
       "      <td>606945</td>\n",
       "      <td>Good</td>\n",
       "      <td>Alive</td>\n",
       "      <td>10</td>\n",
       "      <td>QN37</td>\n",
       "      <td>3.789112e+07</td>\n",
       "      <td>4497</td>\n",
       "      <td>0.000119</td>\n",
       "    </tr>\n",
       "    <tr>\n",
       "      <th>1</th>\n",
       "      <td>679996</td>\n",
       "      <td>Good</td>\n",
       "      <td>Alive</td>\n",
       "      <td>4</td>\n",
       "      <td>QN37</td>\n",
       "      <td>3.789112e+07</td>\n",
       "      <td>4497</td>\n",
       "      <td>0.000119</td>\n",
       "    </tr>\n",
       "    <tr>\n",
       "      <th>2</th>\n",
       "      <td>680506</td>\n",
       "      <td>Good</td>\n",
       "      <td>Alive</td>\n",
       "      <td>4</td>\n",
       "      <td>QN37</td>\n",
       "      <td>3.789112e+07</td>\n",
       "      <td>4497</td>\n",
       "      <td>0.000119</td>\n",
       "    </tr>\n",
       "    <tr>\n",
       "      <th>3</th>\n",
       "      <td>691878</td>\n",
       "      <td>Good</td>\n",
       "      <td>Alive</td>\n",
       "      <td>17</td>\n",
       "      <td>QN37</td>\n",
       "      <td>3.789112e+07</td>\n",
       "      <td>4497</td>\n",
       "      <td>0.000119</td>\n",
       "    </tr>\n",
       "    <tr>\n",
       "      <th>4</th>\n",
       "      <td>692503</td>\n",
       "      <td>Good</td>\n",
       "      <td>Alive</td>\n",
       "      <td>15</td>\n",
       "      <td>QN37</td>\n",
       "      <td>3.789112e+07</td>\n",
       "      <td>4497</td>\n",
       "      <td>0.000119</td>\n",
       "    </tr>\n",
       "    <tr>\n",
       "      <th>...</th>\n",
       "      <td>...</td>\n",
       "      <td>...</td>\n",
       "      <td>...</td>\n",
       "      <td>...</td>\n",
       "      <td>...</td>\n",
       "      <td>...</td>\n",
       "      <td>...</td>\n",
       "      <td>...</td>\n",
       "    </tr>\n",
       "    <tr>\n",
       "      <th>604171</th>\n",
       "      <td>72105</td>\n",
       "      <td>Good</td>\n",
       "      <td>Alive</td>\n",
       "      <td>3</td>\n",
       "      <td>BK23</td>\n",
       "      <td>1.665074e+07</td>\n",
       "      <td>418</td>\n",
       "      <td>0.000025</td>\n",
       "    </tr>\n",
       "    <tr>\n",
       "      <th>604172</th>\n",
       "      <td>374586</td>\n",
       "      <td>Good</td>\n",
       "      <td>Alive</td>\n",
       "      <td>7</td>\n",
       "      <td>BK23</td>\n",
       "      <td>1.665074e+07</td>\n",
       "      <td>418</td>\n",
       "      <td>0.000025</td>\n",
       "    </tr>\n",
       "    <tr>\n",
       "      <th>604173</th>\n",
       "      <td>70230</td>\n",
       "      <td>Good</td>\n",
       "      <td>Alive</td>\n",
       "      <td>12</td>\n",
       "      <td>BK23</td>\n",
       "      <td>1.665074e+07</td>\n",
       "      <td>418</td>\n",
       "      <td>0.000025</td>\n",
       "    </tr>\n",
       "    <tr>\n",
       "      <th>604174</th>\n",
       "      <td>442173</td>\n",
       "      <td>Good</td>\n",
       "      <td>Alive</td>\n",
       "      <td>12</td>\n",
       "      <td>BK23</td>\n",
       "      <td>1.665074e+07</td>\n",
       "      <td>418</td>\n",
       "      <td>0.000025</td>\n",
       "    </tr>\n",
       "    <tr>\n",
       "      <th>604175</th>\n",
       "      <td>72093</td>\n",
       "      <td>Good</td>\n",
       "      <td>Alive</td>\n",
       "      <td>3</td>\n",
       "      <td>BK23</td>\n",
       "      <td>NaN</td>\n",
       "      <td>418</td>\n",
       "      <td>NaN</td>\n",
       "    </tr>\n",
       "  </tbody>\n",
       "</table>\n",
       "<p>604176 rows × 8 columns</p>\n",
       "</div>"
      ],
      "text/plain": [
       "        tree_id health status  tree_dbh   nta    Shape_Area  tree counts  \\\n",
       "0        606945   Good  Alive        10  QN37  3.789112e+07         4497   \n",
       "1        679996   Good  Alive         4  QN37  3.789112e+07         4497   \n",
       "2        680506   Good  Alive         4  QN37  3.789112e+07         4497   \n",
       "3        691878   Good  Alive        17  QN37  3.789112e+07         4497   \n",
       "4        692503   Good  Alive        15  QN37  3.789112e+07         4497   \n",
       "...         ...    ...    ...       ...   ...           ...          ...   \n",
       "604171    72105   Good  Alive         3  BK23  1.665074e+07          418   \n",
       "604172   374586   Good  Alive         7  BK23  1.665074e+07          418   \n",
       "604173    70230   Good  Alive        12  BK23  1.665074e+07          418   \n",
       "604174   442173   Good  Alive        12  BK23  1.665074e+07          418   \n",
       "604175    72093   Good  Alive         3  BK23           NaN          418   \n",
       "\n",
       "        tree density  \n",
       "0           0.000119  \n",
       "1           0.000119  \n",
       "2           0.000119  \n",
       "3           0.000119  \n",
       "4           0.000119  \n",
       "...              ...  \n",
       "604171      0.000025  \n",
       "604172      0.000025  \n",
       "604173      0.000025  \n",
       "604174      0.000025  \n",
       "604175           NaN  \n",
       "\n",
       "[604176 rows x 8 columns]"
      ]
     },
     "execution_count": 16,
     "metadata": {},
     "output_type": "execute_result"
    }
   ],
   "source": [
    "tree_nta_density_final = tree_nta_density[['tree_id', 'health', 'status', 'tree_dbh', 'nta', 'Shape_Area', 'tree counts', 'tree density']]\n",
    "tree_nta_density_final"
   ]
  },
  {
   "cell_type": "markdown",
   "id": "4dc0d283",
   "metadata": {},
   "source": [
    "## NY NTA 2020 Census Data"
   ]
  },
  {
   "cell_type": "code",
   "execution_count": 17,
   "id": "39724759",
   "metadata": {},
   "outputs": [],
   "source": [
    "xls = pd.ExcelFile('demo_2015acs5yr_nta.xlsx')\n",
    "xls1 = pd.ExcelFile('econ_2015acs5yr_nta.xlsx')\n",
    "xls2 = pd.ExcelFile('hous_2015acs5yr_nta.xlsx')\n",
    "xls3 = pd.ExcelFile('soc_2015acs5yr_nta.xlsx')"
   ]
  },
  {
   "cell_type": "code",
   "execution_count": 18,
   "id": "c2fc4f89",
   "metadata": {},
   "outputs": [],
   "source": [
    "demdata = pd.read_excel(xls, 'DemData')\n",
    "econdata = pd.read_excel(xls1, 'EconData')\n",
    "housdata = pd.read_excel(xls2, 'HousData')\n",
    "socdata = pd.read_excel(xls3, 'SocData')"
   ]
  },
  {
   "cell_type": "code",
   "execution_count": 19,
   "id": "7740b5ca",
   "metadata": {},
   "outputs": [],
   "source": [
    "dem = demdata[['GeoID', 'Pop_1E', 'BlNHP','NHspP']]\n",
    "dem = dem.rename(columns={'GeoID':'nta', 'Pop_1E':'Total Population', 'BlNHP':'Percent Black/African American','NHspP':'Percent Hispanic'})\n",
    "# dem['Percent Hispanic/Black'] = dem['Percent Black/African American']+dem['Percent Hispanic']"
   ]
  },
  {
   "cell_type": "code",
   "execution_count": 20,
   "id": "c86898c1",
   "metadata": {},
   "outputs": [],
   "source": [
    "soc = socdata[['GeoID', 'EA_LTHSGrE', 'EA_LTHSGrP', 'EA_BchDHE', 'EA_BchDHP']]\n",
    "soc = soc.rename(columns={'GeoID':'nta', 'EA_LTHSGrE': \"Less than HS Grad Estimate\", \"EA_LTHSGrP\": \"Less than HS Grad Percent\", \n",
    "                   'EA_BchDHE': 'Bachelor or Higher Estimate', 'EA_BchDHP':'Bachelor or Higher Percent'})"
   ]
  },
  {
   "cell_type": "code",
   "execution_count": 21,
   "id": "0f3508bf",
   "metadata": {},
   "outputs": [],
   "source": [
    "econ = econdata[['GeoID', 'MdHHIncE']]\n",
    "econ = econ.rename(columns={'GeoID':'nta', 'MdHHIncE':'Median HH Income Estimate'})"
   ]
  },
  {
   "cell_type": "code",
   "execution_count": 22,
   "id": "e3b436b9",
   "metadata": {},
   "outputs": [],
   "source": [
    "hous = housdata[['GeoID', 'Borough', 'MdVlE', 'OcHU1P']]\n",
    "hous = hous.rename(columns={'GeoID':'nta', 'MdVlE':'Median House Value Estimate', 'OcHU1P':'Percent Occupied Units'})"
   ]
  },
  {
   "cell_type": "code",
   "execution_count": 23,
   "id": "412d12da",
   "metadata": {},
   "outputs": [],
   "source": [
    "nta_df0 = pd.merge(dem, econ, on='nta')\n",
    "nta_df = pd.merge(nta_df0, soc, on='nta')\n",
    "nta_df1 = pd.merge(nta_df, hous, on='nta')"
   ]
  },
  {
   "cell_type": "code",
   "execution_count": 24,
   "id": "cc356815",
   "metadata": {},
   "outputs": [
    {
     "data": {
      "text/html": [
       "<div>\n",
       "<style scoped>\n",
       "    .dataframe tbody tr th:only-of-type {\n",
       "        vertical-align: middle;\n",
       "    }\n",
       "\n",
       "    .dataframe tbody tr th {\n",
       "        vertical-align: top;\n",
       "    }\n",
       "\n",
       "    .dataframe thead th {\n",
       "        text-align: right;\n",
       "    }\n",
       "</style>\n",
       "<table border=\"1\" class=\"dataframe\">\n",
       "  <thead>\n",
       "    <tr style=\"text-align: right;\">\n",
       "      <th></th>\n",
       "      <th>nta</th>\n",
       "      <th>Total Population</th>\n",
       "      <th>Percent Black/African American</th>\n",
       "      <th>Percent Hispanic</th>\n",
       "      <th>Median HH Income Estimate</th>\n",
       "      <th>Less than HS Grad Estimate</th>\n",
       "      <th>Less than HS Grad Percent</th>\n",
       "      <th>Bachelor or Higher Estimate</th>\n",
       "      <th>Bachelor or Higher Percent</th>\n",
       "      <th>Borough</th>\n",
       "      <th>Median House Value Estimate</th>\n",
       "      <th>Percent Occupied Units</th>\n",
       "    </tr>\n",
       "  </thead>\n",
       "  <tbody>\n",
       "    <tr>\n",
       "      <th>0</th>\n",
       "      <td>BK27</td>\n",
       "      <td>33072</td>\n",
       "      <td>2.0</td>\n",
       "      <td>83.0</td>\n",
       "      <td>55681.0</td>\n",
       "      <td>5461</td>\n",
       "      <td>23.3</td>\n",
       "      <td>7597</td>\n",
       "      <td>32.4</td>\n",
       "      <td>Brooklyn</td>\n",
       "      <td>647778.0</td>\n",
       "      <td>94.2</td>\n",
       "    </tr>\n",
       "    <tr>\n",
       "      <th>1</th>\n",
       "      <td>BK31</td>\n",
       "      <td>82560</td>\n",
       "      <td>1.8</td>\n",
       "      <td>82.4</td>\n",
       "      <td>61389.0</td>\n",
       "      <td>8157</td>\n",
       "      <td>13.6</td>\n",
       "      <td>27234</td>\n",
       "      <td>45.4</td>\n",
       "      <td>Brooklyn</td>\n",
       "      <td>644029.0</td>\n",
       "      <td>91.8</td>\n",
       "    </tr>\n",
       "    <tr>\n",
       "      <th>2</th>\n",
       "      <td>BK75</td>\n",
       "      <td>73125</td>\n",
       "      <td>43.5</td>\n",
       "      <td>81.3</td>\n",
       "      <td>36737.0</td>\n",
       "      <td>9494</td>\n",
       "      <td>22.2</td>\n",
       "      <td>12300</td>\n",
       "      <td>28.8</td>\n",
       "      <td>Brooklyn</td>\n",
       "      <td>654007.0</td>\n",
       "      <td>87.7</td>\n",
       "    </tr>\n",
       "    <tr>\n",
       "      <th>3</th>\n",
       "      <td>BK29</td>\n",
       "      <td>63882</td>\n",
       "      <td>0.7</td>\n",
       "      <td>88.7</td>\n",
       "      <td>48508.0</td>\n",
       "      <td>12368</td>\n",
       "      <td>26.8</td>\n",
       "      <td>13256</td>\n",
       "      <td>28.7</td>\n",
       "      <td>Brooklyn</td>\n",
       "      <td>630095.0</td>\n",
       "      <td>93.5</td>\n",
       "    </tr>\n",
       "    <tr>\n",
       "      <th>4</th>\n",
       "      <td>BK28</td>\n",
       "      <td>92433</td>\n",
       "      <td>0.9</td>\n",
       "      <td>85.2</td>\n",
       "      <td>48812.0</td>\n",
       "      <td>19049</td>\n",
       "      <td>29.0</td>\n",
       "      <td>16407</td>\n",
       "      <td>25.0</td>\n",
       "      <td>Brooklyn</td>\n",
       "      <td>676633.0</td>\n",
       "      <td>93.7</td>\n",
       "    </tr>\n",
       "    <tr>\n",
       "      <th>...</th>\n",
       "      <td>...</td>\n",
       "      <td>...</td>\n",
       "      <td>...</td>\n",
       "      <td>...</td>\n",
       "      <td>...</td>\n",
       "      <td>...</td>\n",
       "      <td>...</td>\n",
       "      <td>...</td>\n",
       "      <td>...</td>\n",
       "      <td>...</td>\n",
       "      <td>...</td>\n",
       "      <td>...</td>\n",
       "    </tr>\n",
       "    <tr>\n",
       "      <th>190</th>\n",
       "      <td>BX63</td>\n",
       "      <td>37510</td>\n",
       "      <td>24.0</td>\n",
       "      <td>30.2</td>\n",
       "      <td>25893.0</td>\n",
       "      <td>8129</td>\n",
       "      <td>36.0</td>\n",
       "      <td>3116</td>\n",
       "      <td>13.8</td>\n",
       "      <td>The Bronx</td>\n",
       "      <td>249073.0</td>\n",
       "      <td>94.7</td>\n",
       "    </tr>\n",
       "    <tr>\n",
       "      <th>191</th>\n",
       "      <td>BX08</td>\n",
       "      <td>36493</td>\n",
       "      <td>24.9</td>\n",
       "      <td>34.2</td>\n",
       "      <td>28884.0</td>\n",
       "      <td>8847</td>\n",
       "      <td>38.2</td>\n",
       "      <td>2489</td>\n",
       "      <td>10.7</td>\n",
       "      <td>The Bronx</td>\n",
       "      <td>426773.0</td>\n",
       "      <td>91.1</td>\n",
       "    </tr>\n",
       "    <tr>\n",
       "      <th>192</th>\n",
       "      <td>BX59</td>\n",
       "      <td>27830</td>\n",
       "      <td>16.2</td>\n",
       "      <td>38.0</td>\n",
       "      <td>42528.0</td>\n",
       "      <td>4482</td>\n",
       "      <td>25.5</td>\n",
       "      <td>3166</td>\n",
       "      <td>18.0</td>\n",
       "      <td>The Bronx</td>\n",
       "      <td>419169.0</td>\n",
       "      <td>92.7</td>\n",
       "    </tr>\n",
       "    <tr>\n",
       "      <th>193</th>\n",
       "      <td>BX44</td>\n",
       "      <td>63712</td>\n",
       "      <td>68.8</td>\n",
       "      <td>75.5</td>\n",
       "      <td>39808.0</td>\n",
       "      <td>8659</td>\n",
       "      <td>21.5</td>\n",
       "      <td>7206</td>\n",
       "      <td>17.9</td>\n",
       "      <td>The Bronx</td>\n",
       "      <td>377741.0</td>\n",
       "      <td>92.5</td>\n",
       "    </tr>\n",
       "    <tr>\n",
       "      <th>194</th>\n",
       "      <td>BX62</td>\n",
       "      <td>43859</td>\n",
       "      <td>59.7</td>\n",
       "      <td>82.3</td>\n",
       "      <td>55181.0</td>\n",
       "      <td>5038</td>\n",
       "      <td>16.9</td>\n",
       "      <td>8546</td>\n",
       "      <td>28.7</td>\n",
       "      <td>The Bronx</td>\n",
       "      <td>403014.0</td>\n",
       "      <td>92.5</td>\n",
       "    </tr>\n",
       "  </tbody>\n",
       "</table>\n",
       "<p>195 rows × 12 columns</p>\n",
       "</div>"
      ],
      "text/plain": [
       "      nta  Total Population  Percent Black/African American  Percent Hispanic  \\\n",
       "0    BK27             33072                             2.0              83.0   \n",
       "1    BK31             82560                             1.8              82.4   \n",
       "2    BK75             73125                            43.5              81.3   \n",
       "3    BK29             63882                             0.7              88.7   \n",
       "4    BK28             92433                             0.9              85.2   \n",
       "..    ...               ...                             ...               ...   \n",
       "190  BX63             37510                            24.0              30.2   \n",
       "191  BX08             36493                            24.9              34.2   \n",
       "192  BX59             27830                            16.2              38.0   \n",
       "193  BX44             63712                            68.8              75.5   \n",
       "194  BX62             43859                            59.7              82.3   \n",
       "\n",
       "     Median HH Income Estimate  Less than HS Grad Estimate  \\\n",
       "0                      55681.0                        5461   \n",
       "1                      61389.0                        8157   \n",
       "2                      36737.0                        9494   \n",
       "3                      48508.0                       12368   \n",
       "4                      48812.0                       19049   \n",
       "..                         ...                         ...   \n",
       "190                    25893.0                        8129   \n",
       "191                    28884.0                        8847   \n",
       "192                    42528.0                        4482   \n",
       "193                    39808.0                        8659   \n",
       "194                    55181.0                        5038   \n",
       "\n",
       "     Less than HS Grad Percent  Bachelor or Higher Estimate  \\\n",
       "0                         23.3                         7597   \n",
       "1                         13.6                        27234   \n",
       "2                         22.2                        12300   \n",
       "3                         26.8                        13256   \n",
       "4                         29.0                        16407   \n",
       "..                         ...                          ...   \n",
       "190                       36.0                         3116   \n",
       "191                       38.2                         2489   \n",
       "192                       25.5                         3166   \n",
       "193                       21.5                         7206   \n",
       "194                       16.9                         8546   \n",
       "\n",
       "     Bachelor or Higher Percent    Borough  Median House Value Estimate  \\\n",
       "0                          32.4   Brooklyn                     647778.0   \n",
       "1                          45.4   Brooklyn                     644029.0   \n",
       "2                          28.8   Brooklyn                     654007.0   \n",
       "3                          28.7   Brooklyn                     630095.0   \n",
       "4                          25.0   Brooklyn                     676633.0   \n",
       "..                          ...        ...                          ...   \n",
       "190                        13.8  The Bronx                     249073.0   \n",
       "191                        10.7  The Bronx                     426773.0   \n",
       "192                        18.0  The Bronx                     419169.0   \n",
       "193                        17.9  The Bronx                     377741.0   \n",
       "194                        28.7  The Bronx                     403014.0   \n",
       "\n",
       "     Percent Occupied Units  \n",
       "0                      94.2  \n",
       "1                      91.8  \n",
       "2                      87.7  \n",
       "3                      93.5  \n",
       "4                      93.7  \n",
       "..                      ...  \n",
       "190                    94.7  \n",
       "191                    91.1  \n",
       "192                    92.7  \n",
       "193                    92.5  \n",
       "194                    92.5  \n",
       "\n",
       "[195 rows x 12 columns]"
      ]
     },
     "execution_count": 24,
     "metadata": {},
     "output_type": "execute_result"
    }
   ],
   "source": [
    "nta_df1"
   ]
  },
  {
   "cell_type": "code",
   "execution_count": 25,
   "id": "e3e23063",
   "metadata": {},
   "outputs": [],
   "source": [
    "master = pd.merge(tree_nta_density_final[['nta', 'Shape_Area']], nta_df1, on='nta')\n",
    "\n",
    "master['Population Density'] = master['Total Population']/master['Shape_Area']"
   ]
  },
  {
   "cell_type": "code",
   "execution_count": 26,
   "id": "35f34d9f",
   "metadata": {},
   "outputs": [
    {
     "data": {
      "text/html": [
       "<div>\n",
       "<style scoped>\n",
       "    .dataframe tbody tr th:only-of-type {\n",
       "        vertical-align: middle;\n",
       "    }\n",
       "\n",
       "    .dataframe tbody tr th {\n",
       "        vertical-align: top;\n",
       "    }\n",
       "\n",
       "    .dataframe thead th {\n",
       "        text-align: right;\n",
       "    }\n",
       "</style>\n",
       "<table border=\"1\" class=\"dataframe\">\n",
       "  <thead>\n",
       "    <tr style=\"text-align: right;\">\n",
       "      <th></th>\n",
       "      <th>nta</th>\n",
       "      <th>Shape_Area</th>\n",
       "      <th>Total Population</th>\n",
       "      <th>Percent Black/African American</th>\n",
       "      <th>Percent Hispanic</th>\n",
       "      <th>Median HH Income Estimate</th>\n",
       "      <th>Less than HS Grad Estimate</th>\n",
       "      <th>Less than HS Grad Percent</th>\n",
       "      <th>Bachelor or Higher Estimate</th>\n",
       "      <th>Bachelor or Higher Percent</th>\n",
       "      <th>Borough</th>\n",
       "      <th>Median House Value Estimate</th>\n",
       "      <th>Percent Occupied Units</th>\n",
       "      <th>Population Density</th>\n",
       "    </tr>\n",
       "  </thead>\n",
       "  <tbody>\n",
       "    <tr>\n",
       "      <th>0</th>\n",
       "      <td>QN37</td>\n",
       "      <td>3.789112e+07</td>\n",
       "      <td>39267</td>\n",
       "      <td>7.2</td>\n",
       "      <td>88.4</td>\n",
       "      <td>62840.0</td>\n",
       "      <td>2967</td>\n",
       "      <td>11.6</td>\n",
       "      <td>10750</td>\n",
       "      <td>42.1</td>\n",
       "      <td>Queens</td>\n",
       "      <td>309396.0</td>\n",
       "      <td>93.3</td>\n",
       "      <td>0.001036</td>\n",
       "    </tr>\n",
       "    <tr>\n",
       "      <th>1</th>\n",
       "      <td>QN37</td>\n",
       "      <td>3.789112e+07</td>\n",
       "      <td>39267</td>\n",
       "      <td>7.2</td>\n",
       "      <td>88.4</td>\n",
       "      <td>62840.0</td>\n",
       "      <td>2967</td>\n",
       "      <td>11.6</td>\n",
       "      <td>10750</td>\n",
       "      <td>42.1</td>\n",
       "      <td>Queens</td>\n",
       "      <td>309396.0</td>\n",
       "      <td>93.3</td>\n",
       "      <td>0.001036</td>\n",
       "    </tr>\n",
       "    <tr>\n",
       "      <th>2</th>\n",
       "      <td>QN37</td>\n",
       "      <td>3.789112e+07</td>\n",
       "      <td>39267</td>\n",
       "      <td>7.2</td>\n",
       "      <td>88.4</td>\n",
       "      <td>62840.0</td>\n",
       "      <td>2967</td>\n",
       "      <td>11.6</td>\n",
       "      <td>10750</td>\n",
       "      <td>42.1</td>\n",
       "      <td>Queens</td>\n",
       "      <td>309396.0</td>\n",
       "      <td>93.3</td>\n",
       "      <td>0.001036</td>\n",
       "    </tr>\n",
       "    <tr>\n",
       "      <th>3</th>\n",
       "      <td>QN37</td>\n",
       "      <td>3.789112e+07</td>\n",
       "      <td>39267</td>\n",
       "      <td>7.2</td>\n",
       "      <td>88.4</td>\n",
       "      <td>62840.0</td>\n",
       "      <td>2967</td>\n",
       "      <td>11.6</td>\n",
       "      <td>10750</td>\n",
       "      <td>42.1</td>\n",
       "      <td>Queens</td>\n",
       "      <td>309396.0</td>\n",
       "      <td>93.3</td>\n",
       "      <td>0.001036</td>\n",
       "    </tr>\n",
       "    <tr>\n",
       "      <th>4</th>\n",
       "      <td>QN37</td>\n",
       "      <td>3.789112e+07</td>\n",
       "      <td>39267</td>\n",
       "      <td>7.2</td>\n",
       "      <td>88.4</td>\n",
       "      <td>62840.0</td>\n",
       "      <td>2967</td>\n",
       "      <td>11.6</td>\n",
       "      <td>10750</td>\n",
       "      <td>42.1</td>\n",
       "      <td>Queens</td>\n",
       "      <td>309396.0</td>\n",
       "      <td>93.3</td>\n",
       "      <td>0.001036</td>\n",
       "    </tr>\n",
       "  </tbody>\n",
       "</table>\n",
       "</div>"
      ],
      "text/plain": [
       "    nta    Shape_Area  Total Population  Percent Black/African American  \\\n",
       "0  QN37  3.789112e+07             39267                             7.2   \n",
       "1  QN37  3.789112e+07             39267                             7.2   \n",
       "2  QN37  3.789112e+07             39267                             7.2   \n",
       "3  QN37  3.789112e+07             39267                             7.2   \n",
       "4  QN37  3.789112e+07             39267                             7.2   \n",
       "\n",
       "   Percent Hispanic  Median HH Income Estimate  Less than HS Grad Estimate  \\\n",
       "0              88.4                    62840.0                        2967   \n",
       "1              88.4                    62840.0                        2967   \n",
       "2              88.4                    62840.0                        2967   \n",
       "3              88.4                    62840.0                        2967   \n",
       "4              88.4                    62840.0                        2967   \n",
       "\n",
       "   Less than HS Grad Percent  Bachelor or Higher Estimate  \\\n",
       "0                       11.6                        10750   \n",
       "1                       11.6                        10750   \n",
       "2                       11.6                        10750   \n",
       "3                       11.6                        10750   \n",
       "4                       11.6                        10750   \n",
       "\n",
       "   Bachelor or Higher Percent Borough  Median House Value Estimate  \\\n",
       "0                        42.1  Queens                     309396.0   \n",
       "1                        42.1  Queens                     309396.0   \n",
       "2                        42.1  Queens                     309396.0   \n",
       "3                        42.1  Queens                     309396.0   \n",
       "4                        42.1  Queens                     309396.0   \n",
       "\n",
       "   Percent Occupied Units  Population Density  \n",
       "0                    93.3            0.001036  \n",
       "1                    93.3            0.001036  \n",
       "2                    93.3            0.001036  \n",
       "3                    93.3            0.001036  \n",
       "4                    93.3            0.001036  "
      ]
     },
     "execution_count": 26,
     "metadata": {},
     "output_type": "execute_result"
    }
   ],
   "source": [
    "master.head()"
   ]
  },
  {
   "cell_type": "code",
   "execution_count": 27,
   "id": "9be94760",
   "metadata": {},
   "outputs": [],
   "source": [
    "master1 = master[['nta', 'Population Density', 'Percent Black/African American', 'Less than HS Grad Estimate',\n",
    "                  'Less than HS Grad Percent', 'Bachelor or Higher Estimate', 'Bachelor or Higher Percent', \n",
    "                  'Median HH Income Estimate', 'Borough', 'Median House Value Estimate', 'Percent Occupied Units']]\n",
    "master2 = master1.groupby('nta').mean()\n",
    "master2 = master2.reset_index()"
   ]
  },
  {
   "cell_type": "code",
   "execution_count": 28,
   "id": "03c19bc7",
   "metadata": {
    "scrolled": false
   },
   "outputs": [
    {
     "data": {
      "text/html": [
       "<div>\n",
       "<style scoped>\n",
       "    .dataframe tbody tr th:only-of-type {\n",
       "        vertical-align: middle;\n",
       "    }\n",
       "\n",
       "    .dataframe tbody tr th {\n",
       "        vertical-align: top;\n",
       "    }\n",
       "\n",
       "    .dataframe thead th {\n",
       "        text-align: right;\n",
       "    }\n",
       "</style>\n",
       "<table border=\"1\" class=\"dataframe\">\n",
       "  <thead>\n",
       "    <tr style=\"text-align: right;\">\n",
       "      <th></th>\n",
       "      <th>nta</th>\n",
       "      <th>Population Density</th>\n",
       "      <th>Percent Black/African American</th>\n",
       "      <th>Less than HS Grad Estimate</th>\n",
       "      <th>Less than HS Grad Percent</th>\n",
       "      <th>Bachelor or Higher Estimate</th>\n",
       "      <th>Bachelor or Higher Percent</th>\n",
       "      <th>Median HH Income Estimate</th>\n",
       "      <th>Median House Value Estimate</th>\n",
       "      <th>Percent Occupied Units</th>\n",
       "    </tr>\n",
       "  </thead>\n",
       "  <tbody>\n",
       "    <tr>\n",
       "      <th>0</th>\n",
       "      <td>BK09</td>\n",
       "      <td>0.000281</td>\n",
       "      <td>5.4</td>\n",
       "      <td>468.0</td>\n",
       "      <td>2.5</td>\n",
       "      <td>14302.0</td>\n",
       "      <td>77.3</td>\n",
       "      <td>102850.0</td>\n",
       "      <td>732992.0</td>\n",
       "      <td>87.9</td>\n",
       "    </tr>\n",
       "    <tr>\n",
       "      <th>1</th>\n",
       "      <td>BK17</td>\n",
       "      <td>0.001512</td>\n",
       "      <td>6.9</td>\n",
       "      <td>6482.0</td>\n",
       "      <td>13.8</td>\n",
       "      <td>18509.0</td>\n",
       "      <td>39.3</td>\n",
       "      <td>51203.0</td>\n",
       "      <td>472474.0</td>\n",
       "      <td>91.5</td>\n",
       "    </tr>\n",
       "    <tr>\n",
       "      <th>2</th>\n",
       "      <td>BK19</td>\n",
       "      <td>0.000934</td>\n",
       "      <td>1.0</td>\n",
       "      <td>3131.0</td>\n",
       "      <td>12.5</td>\n",
       "      <td>10431.0</td>\n",
       "      <td>41.8</td>\n",
       "      <td>33934.0</td>\n",
       "      <td>542894.0</td>\n",
       "      <td>88.9</td>\n",
       "    </tr>\n",
       "    <tr>\n",
       "      <th>3</th>\n",
       "      <td>BK21</td>\n",
       "      <td>0.000529</td>\n",
       "      <td>30.5</td>\n",
       "      <td>5877.0</td>\n",
       "      <td>30.0</td>\n",
       "      <td>4324.0</td>\n",
       "      <td>22.0</td>\n",
       "      <td>23005.0</td>\n",
       "      <td>421143.0</td>\n",
       "      <td>89.4</td>\n",
       "    </tr>\n",
       "    <tr>\n",
       "      <th>4</th>\n",
       "      <td>BK23</td>\n",
       "      <td>0.000468</td>\n",
       "      <td>0.6</td>\n",
       "      <td>771.0</td>\n",
       "      <td>5.7</td>\n",
       "      <td>6386.0</td>\n",
       "      <td>47.6</td>\n",
       "      <td>38805.0</td>\n",
       "      <td>274360.0</td>\n",
       "      <td>92.5</td>\n",
       "    </tr>\n",
       "    <tr>\n",
       "      <th>...</th>\n",
       "      <td>...</td>\n",
       "      <td>...</td>\n",
       "      <td>...</td>\n",
       "      <td>...</td>\n",
       "      <td>...</td>\n",
       "      <td>...</td>\n",
       "      <td>...</td>\n",
       "      <td>...</td>\n",
       "      <td>...</td>\n",
       "      <td>...</td>\n",
       "    </tr>\n",
       "    <tr>\n",
       "      <th>183</th>\n",
       "      <td>SI36</td>\n",
       "      <td>0.000542</td>\n",
       "      <td>3.9</td>\n",
       "      <td>2147.0</td>\n",
       "      <td>12.2</td>\n",
       "      <td>5072.0</td>\n",
       "      <td>28.9</td>\n",
       "      <td>64592.0</td>\n",
       "      <td>435556.0</td>\n",
       "      <td>91.4</td>\n",
       "    </tr>\n",
       "    <tr>\n",
       "      <th>184</th>\n",
       "      <td>SI37</td>\n",
       "      <td>0.000658</td>\n",
       "      <td>19.6</td>\n",
       "      <td>3266.0</td>\n",
       "      <td>18.4</td>\n",
       "      <td>4454.0</td>\n",
       "      <td>25.1</td>\n",
       "      <td>55408.0</td>\n",
       "      <td>365025.0</td>\n",
       "      <td>89.7</td>\n",
       "    </tr>\n",
       "    <tr>\n",
       "      <th>185</th>\n",
       "      <td>SI45</td>\n",
       "      <td>0.000248</td>\n",
       "      <td>1.0</td>\n",
       "      <td>1392.0</td>\n",
       "      <td>9.5</td>\n",
       "      <td>4582.0</td>\n",
       "      <td>31.1</td>\n",
       "      <td>74432.0</td>\n",
       "      <td>429999.0</td>\n",
       "      <td>91.6</td>\n",
       "    </tr>\n",
       "    <tr>\n",
       "      <th>186</th>\n",
       "      <td>SI48</td>\n",
       "      <td>0.000719</td>\n",
       "      <td>1.9</td>\n",
       "      <td>1539.0</td>\n",
       "      <td>8.4</td>\n",
       "      <td>6094.0</td>\n",
       "      <td>33.4</td>\n",
       "      <td>83032.0</td>\n",
       "      <td>420163.0</td>\n",
       "      <td>97.4</td>\n",
       "    </tr>\n",
       "    <tr>\n",
       "      <th>187</th>\n",
       "      <td>SI54</td>\n",
       "      <td>0.000737</td>\n",
       "      <td>0.1</td>\n",
       "      <td>2443.0</td>\n",
       "      <td>7.7</td>\n",
       "      <td>9927.0</td>\n",
       "      <td>31.3</td>\n",
       "      <td>89618.0</td>\n",
       "      <td>445621.0</td>\n",
       "      <td>98.0</td>\n",
       "    </tr>\n",
       "  </tbody>\n",
       "</table>\n",
       "<p>188 rows × 10 columns</p>\n",
       "</div>"
      ],
      "text/plain": [
       "      nta  Population Density  Percent Black/African American  \\\n",
       "0    BK09            0.000281                             5.4   \n",
       "1    BK17            0.001512                             6.9   \n",
       "2    BK19            0.000934                             1.0   \n",
       "3    BK21            0.000529                            30.5   \n",
       "4    BK23            0.000468                             0.6   \n",
       "..    ...                 ...                             ...   \n",
       "183  SI36            0.000542                             3.9   \n",
       "184  SI37            0.000658                            19.6   \n",
       "185  SI45            0.000248                             1.0   \n",
       "186  SI48            0.000719                             1.9   \n",
       "187  SI54            0.000737                             0.1   \n",
       "\n",
       "     Less than HS Grad Estimate  Less than HS Grad Percent  \\\n",
       "0                         468.0                        2.5   \n",
       "1                        6482.0                       13.8   \n",
       "2                        3131.0                       12.5   \n",
       "3                        5877.0                       30.0   \n",
       "4                         771.0                        5.7   \n",
       "..                          ...                        ...   \n",
       "183                      2147.0                       12.2   \n",
       "184                      3266.0                       18.4   \n",
       "185                      1392.0                        9.5   \n",
       "186                      1539.0                        8.4   \n",
       "187                      2443.0                        7.7   \n",
       "\n",
       "     Bachelor or Higher Estimate  Bachelor or Higher Percent  \\\n",
       "0                        14302.0                        77.3   \n",
       "1                        18509.0                        39.3   \n",
       "2                        10431.0                        41.8   \n",
       "3                         4324.0                        22.0   \n",
       "4                         6386.0                        47.6   \n",
       "..                           ...                         ...   \n",
       "183                       5072.0                        28.9   \n",
       "184                       4454.0                        25.1   \n",
       "185                       4582.0                        31.1   \n",
       "186                       6094.0                        33.4   \n",
       "187                       9927.0                        31.3   \n",
       "\n",
       "     Median HH Income Estimate  Median House Value Estimate  \\\n",
       "0                     102850.0                     732992.0   \n",
       "1                      51203.0                     472474.0   \n",
       "2                      33934.0                     542894.0   \n",
       "3                      23005.0                     421143.0   \n",
       "4                      38805.0                     274360.0   \n",
       "..                         ...                          ...   \n",
       "183                    64592.0                     435556.0   \n",
       "184                    55408.0                     365025.0   \n",
       "185                    74432.0                     429999.0   \n",
       "186                    83032.0                     420163.0   \n",
       "187                    89618.0                     445621.0   \n",
       "\n",
       "     Percent Occupied Units  \n",
       "0                      87.9  \n",
       "1                      91.5  \n",
       "2                      88.9  \n",
       "3                      89.4  \n",
       "4                      92.5  \n",
       "..                      ...  \n",
       "183                    91.4  \n",
       "184                    89.7  \n",
       "185                    91.6  \n",
       "186                    97.4  \n",
       "187                    98.0  \n",
       "\n",
       "[188 rows x 10 columns]"
      ]
     },
     "execution_count": 28,
     "metadata": {},
     "output_type": "execute_result"
    }
   ],
   "source": [
    "master2"
   ]
  },
  {
   "cell_type": "code",
   "execution_count": 29,
   "id": "fabeff0a",
   "metadata": {
    "scrolled": false
   },
   "outputs": [],
   "source": [
    "demo_tree_nta = tree_nta_density_final.merge(master2, on='nta')\n",
    "demo_tree_nta = demo_tree_nta.dropna()\n",
    "tree_demo_avg = demo_tree_nta.groupby('nta').mean()"
   ]
  },
  {
   "cell_type": "code",
   "execution_count": 30,
   "id": "98996979",
   "metadata": {},
   "outputs": [
    {
     "data": {
      "text/plain": [
       "(array([91., 22., 19., 18.,  5.,  5.,  5.,  9.,  3., 10.]),\n",
       " array([ 0.1 ,  9.11, 18.12, 27.13, 36.14, 45.15, 54.16, 63.17, 72.18,\n",
       "        81.19, 90.2 ]),\n",
       " <BarContainer object of 10 artists>)"
      ]
     },
     "execution_count": 30,
     "metadata": {},
     "output_type": "execute_result"
    },
    {
     "data": {
      "image/png": "[encoded data removed]",
      "text/plain": [
       "<Figure size 432x288 with 1 Axes>"
      ]
     },
     "metadata": {
      "needs_background": "light"
     },
     "output_type": "display_data"
    }
   ],
   "source": [
    "plt.hist(tree_demo_avg['Percent Black/African American'])"
   ]
  },
  {
   "cell_type": "code",
   "execution_count": 31,
   "id": "b1c40e78",
   "metadata": {},
   "outputs": [
    {
     "data": {
      "text/plain": [
       "(array([25., 34., 46., 28., 18.,  9.,  6.,  5.,  6., 10.]),\n",
       " array([ 7.4 , 15.15, 22.9 , 30.65, 38.4 , 46.15, 53.9 , 61.65, 69.4 ,\n",
       "        77.15, 84.9 ]),\n",
       " <BarContainer object of 10 artists>)"
      ]
     },
     "execution_count": 31,
     "metadata": {},
     "output_type": "execute_result"
    },
    {
     "data": {
      "image/png": "[encoded data removed]",
      "text/plain": [
       "<Figure size 432x288 with 1 Axes>"
      ]
     },
     "metadata": {
      "needs_background": "light"
     },
     "output_type": "display_data"
    }
   ],
   "source": [
    "plt.hist(tree_demo_avg['Bachelor or Higher Percent'])"
   ]
  },
  {
   "cell_type": "code",
   "execution_count": 32,
   "id": "d6e00093",
   "metadata": {},
   "outputs": [
    {
     "data": {
      "text/plain": [
       "(array([31., 42., 45., 32., 22.,  5.,  5.,  4.,  0.,  1.]),\n",
       " array([ 20314. ,  34314.9,  48315.8,  62316.7,  76317.6,  90318.5,\n",
       "        104319.4, 118320.3, 132321.2, 146322.1, 160323. ]),\n",
       " <BarContainer object of 10 artists>)"
      ]
     },
     "execution_count": 32,
     "metadata": {},
     "output_type": "execute_result"
    },
    {
     "data": {
      "image/png": "[encoded data removed]",
      "text/plain": [
       "<Figure size 432x288 with 1 Axes>"
      ]
     },
     "metadata": {
      "needs_background": "light"
     },
     "output_type": "display_data"
    }
   ],
   "source": [
    "plt.hist(tree_demo_avg['Median HH Income Estimate'])"
   ]
  },
  {
   "cell_type": "code",
   "execution_count": 33,
   "id": "65416bd3",
   "metadata": {},
   "outputs": [
    {
     "data": {
      "text/plain": [
       "(array([ 6., 69., 63., 37.,  7.,  3.,  0.,  0.,  0.,  2.]),\n",
       " array([  37572. ,  233814.8,  430057.6,  626300.4,  822543.2, 1018786. ,\n",
       "        1215028.8, 1411271.6, 1607514.4, 1803757.2, 2000000. ]),\n",
       " <BarContainer object of 10 artists>)"
      ]
     },
     "execution_count": 33,
     "metadata": {},
     "output_type": "execute_result"
    },
    {
     "data": {
      "image/png": "[encoded data removed]",
      "text/plain": [
       "<Figure size 432x288 with 1 Axes>"
      ]
     },
     "metadata": {
      "needs_background": "light"
     },
     "output_type": "display_data"
    }
   ],
   "source": [
    "plt.hist(tree_demo_avg['Median House Value Estimate'])"
   ]
  },
  {
   "cell_type": "code",
   "execution_count": 34,
   "id": "32cd77f6",
   "metadata": {},
   "outputs": [
    {
     "data": {
      "text/plain": [
       "(array([49., 73., 26., 17.,  7.,  7.,  2.,  3.,  2.,  1.]),\n",
       " array([6.93490465e-05, 6.28325293e-04, 1.18730154e-03, 1.74627778e-03,\n",
       "        2.30525403e-03, 2.86423028e-03, 3.42320652e-03, 3.98218277e-03,\n",
       "        4.54115901e-03, 5.10013526e-03, 5.65911151e-03]),\n",
       " <BarContainer object of 10 artists>)"
      ]
     },
     "execution_count": 34,
     "metadata": {},
     "output_type": "execute_result"
    },
    {
     "data": {
      "image/png": "[encoded data removed]",
      "text/plain": [
       "<Figure size 432x288 with 1 Axes>"
      ]
     },
     "metadata": {
      "needs_background": "light"
     },
     "output_type": "display_data"
    }
   ],
   "source": [
    "plt.hist(tree_demo_avg['Population Density'])"
   ]
  },
  {
   "cell_type": "code",
   "execution_count": 35,
   "id": "ed2244c7",
   "metadata": {},
   "outputs": [
    {
     "data": {
      "text/plain": [
       "(array([ 1.,  0.,  3.,  2.,  4.,  8., 16., 62., 77., 14.]),\n",
       " array([71. , 73.7, 76.4, 79.1, 81.8, 84.5, 87.2, 89.9, 92.6, 95.3, 98. ]),\n",
       " <BarContainer object of 10 artists>)"
      ]
     },
     "execution_count": 35,
     "metadata": {},
     "output_type": "execute_result"
    },
    {
     "data": {
      "image/png": "[encoded data removed]",
      "text/plain": [
       "<Figure size 432x288 with 1 Axes>"
      ]
     },
     "metadata": {
      "needs_background": "light"
     },
     "output_type": "display_data"
    }
   ],
   "source": [
    "plt.hist(tree_demo_avg['Percent Occupied Units'])"
   ]
  },
  {
   "cell_type": "code",
   "execution_count": 36,
   "id": "d7490ade",
   "metadata": {},
   "outputs": [
    {
     "data": {
      "text/plain": [
       "<matplotlib.collections.PathCollection at 0x7fee687eee20>"
      ]
     },
     "execution_count": 36,
     "metadata": {},
     "output_type": "execute_result"
    },
    {
     "data": {
      "image/png": "[encoded data removed]",
      "text/plain": [
       "<Figure size 432x288 with 1 Axes>"
      ]
     },
     "metadata": {
      "needs_background": "light"
     },
     "output_type": "display_data"
    }
   ],
   "source": [
    "plt.scatter(tree_demo_avg['tree density'], tree_demo_avg['Median HH Income Estimate'])"
   ]
  },
  {
   "cell_type": "code",
   "execution_count": 37,
   "id": "c5e55d4a",
   "metadata": {},
   "outputs": [
    {
     "data": {
      "text/plain": [
       "<matplotlib.collections.PathCollection at 0x7fee78624c70>"
      ]
     },
     "execution_count": 37,
     "metadata": {},
     "output_type": "execute_result"
    },
    {
     "data": {
      "image/png": "[encoded data removed]",
      "text/plain": [
       "<Figure size 432x288 with 1 Axes>"
      ]
     },
     "metadata": {
      "needs_background": "light"
     },
     "output_type": "display_data"
    }
   ],
   "source": [
    "plt.scatter(tree_demo_avg['tree density'], tree_demo_avg['Median House Value Estimate'])"
   ]
  },
  {
   "cell_type": "code",
   "execution_count": 38,
   "id": "c6d0c0f1",
   "metadata": {},
   "outputs": [
    {
     "data": {
      "text/plain": [
       "<matplotlib.collections.PathCollection at 0x7fee6592b340>"
      ]
     },
     "execution_count": 38,
     "metadata": {},
     "output_type": "execute_result"
    },
    {
     "data": {
      "image/png": "[encoded data removed]",
      "text/plain": [
       "<Figure size 432x288 with 1 Axes>"
      ]
     },
     "metadata": {
      "needs_background": "light"
     },
     "output_type": "display_data"
    }
   ],
   "source": [
    "plt.scatter(tree_demo_avg['tree density'], tree_demo_avg['tree_dbh'])"
   ]
  },
  {
   "cell_type": "code",
   "execution_count": 39,
   "id": "4902f223",
   "metadata": {},
   "outputs": [
    {
     "data": {
      "text/plain": [
       "<matplotlib.collections.PathCollection at 0x7fee386b1970>"
      ]
     },
     "execution_count": 39,
     "metadata": {},
     "output_type": "execute_result"
    },
    {
     "data": {
      "image/png": "[encoded data removed]",
      "text/plain": [
       "<Figure size 432x288 with 1 Axes>"
      ]
     },
     "metadata": {
      "needs_background": "light"
     },
     "output_type": "display_data"
    }
   ],
   "source": [
    "plt.scatter(tree_demo_avg['tree density'], tree_demo_avg['Percent Black/African American'])"
   ]
  },
  {
   "cell_type": "code",
   "execution_count": 40,
   "id": "b4931426",
   "metadata": {},
   "outputs": [
    {
     "data": {
      "text/plain": [
       "<matplotlib.collections.PathCollection at 0x7fee635cfa30>"
      ]
     },
     "execution_count": 40,
     "metadata": {},
     "output_type": "execute_result"
    },
    {
     "data": {
      "image/png": "[encoded data removed]",
      "text/plain": [
       "<Figure size 432x288 with 1 Axes>"
      ]
     },
     "metadata": {
      "needs_background": "light"
     },
     "output_type": "display_data"
    }
   ],
   "source": [
    "plt.scatter(tree_demo_avg['tree density'],tree_demo_avg['Population Density'])"
   ]
  },
  {
   "cell_type": "code",
   "execution_count": 41,
   "id": "0bba88c6",
   "metadata": {},
   "outputs": [
    {
     "data": {
      "text/plain": [
       "<matplotlib.collections.PathCollection at 0x7fee63411c10>"
      ]
     },
     "execution_count": 41,
     "metadata": {},
     "output_type": "execute_result"
    },
    {
     "data": {
      "image/png": "[encoded data removed]",
      "text/plain": [
       "<Figure size 432x288 with 1 Axes>"
      ]
     },
     "metadata": {
      "needs_background": "light"
     },
     "output_type": "display_data"
    }
   ],
   "source": [
    "plt.scatter(tree_demo_avg['tree density'], tree_demo_avg['Percent Occupied Units'])"
   ]
  },
  {
   "cell_type": "code",
   "execution_count": 42,
   "id": "06ee71c4",
   "metadata": {},
   "outputs": [
    {
     "data": {
      "text/html": [
       "<div>\n",
       "<style scoped>\n",
       "    .dataframe tbody tr th:only-of-type {\n",
       "        vertical-align: middle;\n",
       "    }\n",
       "\n",
       "    .dataframe tbody tr th {\n",
       "        vertical-align: top;\n",
       "    }\n",
       "\n",
       "    .dataframe thead th {\n",
       "        text-align: right;\n",
       "    }\n",
       "</style>\n",
       "<table border=\"1\" class=\"dataframe\">\n",
       "  <thead>\n",
       "    <tr style=\"text-align: right;\">\n",
       "      <th></th>\n",
       "      <th>tree_dbh</th>\n",
       "      <th>tree density</th>\n",
       "      <th>Population Density</th>\n",
       "      <th>Percent Black/African American</th>\n",
       "      <th>Less than HS Grad Percent</th>\n",
       "      <th>Bachelor or Higher Percent</th>\n",
       "      <th>Percent Occupied Units</th>\n",
       "      <th>Median HH Income Estimate</th>\n",
       "      <th>Median House Value Estimate</th>\n",
       "    </tr>\n",
       "  </thead>\n",
       "  <tbody>\n",
       "    <tr>\n",
       "      <th>tree_dbh</th>\n",
       "      <td>1.000000</td>\n",
       "      <td>0.332296</td>\n",
       "      <td>0.075626</td>\n",
       "      <td>0.006995</td>\n",
       "      <td>-0.290163</td>\n",
       "      <td>-0.050639</td>\n",
       "      <td>0.336681</td>\n",
       "      <td>0.113424</td>\n",
       "      <td>-0.111216</td>\n",
       "    </tr>\n",
       "    <tr>\n",
       "      <th>tree density</th>\n",
       "      <td>0.332296</td>\n",
       "      <td>1.000000</td>\n",
       "      <td>0.640104</td>\n",
       "      <td>0.000828</td>\n",
       "      <td>-0.120107</td>\n",
       "      <td>-0.117236</td>\n",
       "      <td>0.221792</td>\n",
       "      <td>0.116979</td>\n",
       "      <td>-0.013209</td>\n",
       "    </tr>\n",
       "    <tr>\n",
       "      <th>Population Density</th>\n",
       "      <td>0.075626</td>\n",
       "      <td>0.640104</td>\n",
       "      <td>1.000000</td>\n",
       "      <td>0.119288</td>\n",
       "      <td>0.228026</td>\n",
       "      <td>-0.152865</td>\n",
       "      <td>0.077170</td>\n",
       "      <td>-0.167298</td>\n",
       "      <td>0.012580</td>\n",
       "    </tr>\n",
       "    <tr>\n",
       "      <th>Percent Black/African American</th>\n",
       "      <td>0.006995</td>\n",
       "      <td>0.000828</td>\n",
       "      <td>0.119288</td>\n",
       "      <td>1.000000</td>\n",
       "      <td>0.126127</td>\n",
       "      <td>-0.380058</td>\n",
       "      <td>0.059561</td>\n",
       "      <td>-0.290050</td>\n",
       "      <td>-0.291447</td>\n",
       "    </tr>\n",
       "    <tr>\n",
       "      <th>Less than HS Grad Percent</th>\n",
       "      <td>-0.290163</td>\n",
       "      <td>-0.120107</td>\n",
       "      <td>0.228026</td>\n",
       "      <td>0.126127</td>\n",
       "      <td>1.000000</td>\n",
       "      <td>-0.761540</td>\n",
       "      <td>0.281750</td>\n",
       "      <td>-0.812477</td>\n",
       "      <td>-0.380288</td>\n",
       "    </tr>\n",
       "    <tr>\n",
       "      <th>Bachelor or Higher Percent</th>\n",
       "      <td>-0.050639</td>\n",
       "      <td>-0.117236</td>\n",
       "      <td>-0.152865</td>\n",
       "      <td>-0.380058</td>\n",
       "      <td>-0.761540</td>\n",
       "      <td>1.000000</td>\n",
       "      <td>-0.484690</td>\n",
       "      <td>0.807972</td>\n",
       "      <td>0.654272</td>\n",
       "    </tr>\n",
       "    <tr>\n",
       "      <th>Percent Occupied Units</th>\n",
       "      <td>0.336681</td>\n",
       "      <td>0.221792</td>\n",
       "      <td>0.077170</td>\n",
       "      <td>0.059561</td>\n",
       "      <td>0.281750</td>\n",
       "      <td>-0.484690</td>\n",
       "      <td>1.000000</td>\n",
       "      <td>-0.403530</td>\n",
       "      <td>-0.483705</td>\n",
       "    </tr>\n",
       "    <tr>\n",
       "      <th>Median HH Income Estimate</th>\n",
       "      <td>0.113424</td>\n",
       "      <td>0.116979</td>\n",
       "      <td>-0.167298</td>\n",
       "      <td>-0.290050</td>\n",
       "      <td>-0.812477</td>\n",
       "      <td>0.807972</td>\n",
       "      <td>-0.403530</td>\n",
       "      <td>1.000000</td>\n",
       "      <td>0.601673</td>\n",
       "    </tr>\n",
       "    <tr>\n",
       "      <th>Median House Value Estimate</th>\n",
       "      <td>-0.111216</td>\n",
       "      <td>-0.013209</td>\n",
       "      <td>0.012580</td>\n",
       "      <td>-0.291447</td>\n",
       "      <td>-0.380288</td>\n",
       "      <td>0.654272</td>\n",
       "      <td>-0.483705</td>\n",
       "      <td>0.601673</td>\n",
       "      <td>1.000000</td>\n",
       "    </tr>\n",
       "  </tbody>\n",
       "</table>\n",
       "</div>"
      ],
      "text/plain": [
       "                                tree_dbh  tree density  Population Density  \\\n",
       "tree_dbh                        1.000000      0.332296            0.075626   \n",
       "tree density                    0.332296      1.000000            0.640104   \n",
       "Population Density              0.075626      0.640104            1.000000   \n",
       "Percent Black/African American  0.006995      0.000828            0.119288   \n",
       "Less than HS Grad Percent      -0.290163     -0.120107            0.228026   \n",
       "Bachelor or Higher Percent     -0.050639     -0.117236           -0.152865   \n",
       "Percent Occupied Units          0.336681      0.221792            0.077170   \n",
       "Median HH Income Estimate       0.113424      0.116979           -0.167298   \n",
       "Median House Value Estimate    -0.111216     -0.013209            0.012580   \n",
       "\n",
       "                                Percent Black/African American  \\\n",
       "tree_dbh                                              0.006995   \n",
       "tree density                                          0.000828   \n",
       "Population Density                                    0.119288   \n",
       "Percent Black/African American                        1.000000   \n",
       "Less than HS Grad Percent                             0.126127   \n",
       "Bachelor or Higher Percent                           -0.380058   \n",
       "Percent Occupied Units                                0.059561   \n",
       "Median HH Income Estimate                            -0.290050   \n",
       "Median House Value Estimate                          -0.291447   \n",
       "\n",
       "                                Less than HS Grad Percent  \\\n",
       "tree_dbh                                        -0.290163   \n",
       "tree density                                    -0.120107   \n",
       "Population Density                               0.228026   \n",
       "Percent Black/African American                   0.126127   \n",
       "Less than HS Grad Percent                        1.000000   \n",
       "Bachelor or Higher Percent                      -0.761540   \n",
       "Percent Occupied Units                           0.281750   \n",
       "Median HH Income Estimate                       -0.812477   \n",
       "Median House Value Estimate                     -0.380288   \n",
       "\n",
       "                                Bachelor or Higher Percent  \\\n",
       "tree_dbh                                         -0.050639   \n",
       "tree density                                     -0.117236   \n",
       "Population Density                               -0.152865   \n",
       "Percent Black/African American                   -0.380058   \n",
       "Less than HS Grad Percent                        -0.761540   \n",
       "Bachelor or Higher Percent                        1.000000   \n",
       "Percent Occupied Units                           -0.484690   \n",
       "Median HH Income Estimate                         0.807972   \n",
       "Median House Value Estimate                       0.654272   \n",
       "\n",
       "                                Percent Occupied Units  \\\n",
       "tree_dbh                                      0.336681   \n",
       "tree density                                  0.221792   \n",
       "Population Density                            0.077170   \n",
       "Percent Black/African American                0.059561   \n",
       "Less than HS Grad Percent                     0.281750   \n",
       "Bachelor or Higher Percent                   -0.484690   \n",
       "Percent Occupied Units                        1.000000   \n",
       "Median HH Income Estimate                    -0.403530   \n",
       "Median House Value Estimate                  -0.483705   \n",
       "\n",
       "                                Median HH Income Estimate  \\\n",
       "tree_dbh                                         0.113424   \n",
       "tree density                                     0.116979   \n",
       "Population Density                              -0.167298   \n",
       "Percent Black/African American                  -0.290050   \n",
       "Less than HS Grad Percent                       -0.812477   \n",
       "Bachelor or Higher Percent                       0.807972   \n",
       "Percent Occupied Units                          -0.403530   \n",
       "Median HH Income Estimate                        1.000000   \n",
       "Median House Value Estimate                      0.601673   \n",
       "\n",
       "                                Median House Value Estimate  \n",
       "tree_dbh                                          -0.111216  \n",
       "tree density                                      -0.013209  \n",
       "Population Density                                 0.012580  \n",
       "Percent Black/African American                    -0.291447  \n",
       "Less than HS Grad Percent                         -0.380288  \n",
       "Bachelor or Higher Percent                         0.654272  \n",
       "Percent Occupied Units                            -0.483705  \n",
       "Median HH Income Estimate                          0.601673  \n",
       "Median House Value Estimate                        1.000000  "
      ]
     },
     "execution_count": 42,
     "metadata": {},
     "output_type": "execute_result"
    }
   ],
   "source": [
    "tree_demo_avg[['tree_dbh', 'tree density', 'Population Density', 'Percent Black/African American', \n",
    "               'Less than HS Grad Percent', 'Bachelor or Higher Percent', 'Percent Occupied Units', \n",
    "               'Median HH Income Estimate', 'Median House Value Estimate']].corr()"
   ]
  },
  {
   "cell_type": "code",
   "execution_count": 43,
   "id": "62073095",
   "metadata": {},
   "outputs": [
    {
     "data": {
      "text/html": [
       "<div>\n",
       "<style scoped>\n",
       "    .dataframe tbody tr th:only-of-type {\n",
       "        vertical-align: middle;\n",
       "    }\n",
       "\n",
       "    .dataframe tbody tr th {\n",
       "        vertical-align: top;\n",
       "    }\n",
       "\n",
       "    .dataframe thead th {\n",
       "        text-align: right;\n",
       "    }\n",
       "</style>\n",
       "<table border=\"1\" class=\"dataframe\">\n",
       "  <thead>\n",
       "    <tr style=\"text-align: right;\">\n",
       "      <th></th>\n",
       "      <th>tree_id</th>\n",
       "      <th>tree_dbh</th>\n",
       "      <th>Shape_Area</th>\n",
       "      <th>tree counts</th>\n",
       "      <th>tree density</th>\n",
       "      <th>Population Density</th>\n",
       "      <th>Percent Black/African American</th>\n",
       "      <th>Less than HS Grad Estimate</th>\n",
       "      <th>Less than HS Grad Percent</th>\n",
       "      <th>Bachelor or Higher Estimate</th>\n",
       "      <th>Bachelor or Higher Percent</th>\n",
       "      <th>Median HH Income Estimate</th>\n",
       "      <th>Median House Value Estimate</th>\n",
       "      <th>Percent Occupied Units</th>\n",
       "    </tr>\n",
       "    <tr>\n",
       "      <th>nta</th>\n",
       "      <th></th>\n",
       "      <th></th>\n",
       "      <th></th>\n",
       "      <th></th>\n",
       "      <th></th>\n",
       "      <th></th>\n",
       "      <th></th>\n",
       "      <th></th>\n",
       "      <th></th>\n",
       "      <th></th>\n",
       "      <th></th>\n",
       "      <th></th>\n",
       "      <th></th>\n",
       "      <th></th>\n",
       "    </tr>\n",
       "  </thead>\n",
       "  <tbody>\n",
       "    <tr>\n",
       "      <th>BK09</th>\n",
       "      <td>120719.086586</td>\n",
       "      <td>12.268275</td>\n",
       "      <td>8.538518e+07</td>\n",
       "      <td>1655.0</td>\n",
       "      <td>0.000020</td>\n",
       "      <td>0.000281</td>\n",
       "      <td>5.4</td>\n",
       "      <td>468.0</td>\n",
       "      <td>2.5</td>\n",
       "      <td>14302.0</td>\n",
       "      <td>77.3</td>\n",
       "      <td>102850.0</td>\n",
       "      <td>732992.0</td>\n",
       "      <td>87.9</td>\n",
       "    </tr>\n",
       "    <tr>\n",
       "      <th>BK17</th>\n",
       "      <td>314681.361030</td>\n",
       "      <td>15.371963</td>\n",
       "      <td>4.383182e+07</td>\n",
       "      <td>4463.0</td>\n",
       "      <td>0.000105</td>\n",
       "      <td>0.001512</td>\n",
       "      <td>6.9</td>\n",
       "      <td>6482.0</td>\n",
       "      <td>13.8</td>\n",
       "      <td>18509.0</td>\n",
       "      <td>39.3</td>\n",
       "      <td>51203.0</td>\n",
       "      <td>472474.0</td>\n",
       "      <td>91.5</td>\n",
       "    </tr>\n",
       "    <tr>\n",
       "      <th>BK19</th>\n",
       "      <td>301621.384865</td>\n",
       "      <td>12.962162</td>\n",
       "      <td>3.579964e+07</td>\n",
       "      <td>1053.0</td>\n",
       "      <td>0.000029</td>\n",
       "      <td>0.000934</td>\n",
       "      <td>1.0</td>\n",
       "      <td>3131.0</td>\n",
       "      <td>12.5</td>\n",
       "      <td>10431.0</td>\n",
       "      <td>41.8</td>\n",
       "      <td>33934.0</td>\n",
       "      <td>542894.0</td>\n",
       "      <td>88.9</td>\n",
       "    </tr>\n",
       "    <tr>\n",
       "      <th>BK21</th>\n",
       "      <td>289929.227519</td>\n",
       "      <td>7.260022</td>\n",
       "      <td>5.543487e+07</td>\n",
       "      <td>1092.0</td>\n",
       "      <td>0.000020</td>\n",
       "      <td>0.000529</td>\n",
       "      <td>30.5</td>\n",
       "      <td>5877.0</td>\n",
       "      <td>30.0</td>\n",
       "      <td>4324.0</td>\n",
       "      <td>22.0</td>\n",
       "      <td>23005.0</td>\n",
       "      <td>421143.0</td>\n",
       "      <td>89.4</td>\n",
       "    </tr>\n",
       "    <tr>\n",
       "      <th>BK23</th>\n",
       "      <td>276938.002660</td>\n",
       "      <td>12.231383</td>\n",
       "      <td>1.092484e+08</td>\n",
       "      <td>418.0</td>\n",
       "      <td>0.000013</td>\n",
       "      <td>0.000468</td>\n",
       "      <td>0.6</td>\n",
       "      <td>771.0</td>\n",
       "      <td>5.7</td>\n",
       "      <td>6386.0</td>\n",
       "      <td>47.6</td>\n",
       "      <td>38805.0</td>\n",
       "      <td>274360.0</td>\n",
       "      <td>92.5</td>\n",
       "    </tr>\n",
       "    <tr>\n",
       "      <th>...</th>\n",
       "      <td>...</td>\n",
       "      <td>...</td>\n",
       "      <td>...</td>\n",
       "      <td>...</td>\n",
       "      <td>...</td>\n",
       "      <td>...</td>\n",
       "      <td>...</td>\n",
       "      <td>...</td>\n",
       "      <td>...</td>\n",
       "      <td>...</td>\n",
       "      <td>...</td>\n",
       "      <td>...</td>\n",
       "      <td>...</td>\n",
       "      <td>...</td>\n",
       "    </tr>\n",
       "    <tr>\n",
       "      <th>SI36</th>\n",
       "      <td>356144.454135</td>\n",
       "      <td>12.606488</td>\n",
       "      <td>5.806492e+07</td>\n",
       "      <td>4302.0</td>\n",
       "      <td>0.000094</td>\n",
       "      <td>0.000542</td>\n",
       "      <td>3.9</td>\n",
       "      <td>2147.0</td>\n",
       "      <td>12.2</td>\n",
       "      <td>5072.0</td>\n",
       "      <td>28.9</td>\n",
       "      <td>64592.0</td>\n",
       "      <td>435556.0</td>\n",
       "      <td>91.4</td>\n",
       "    </tr>\n",
       "    <tr>\n",
       "      <th>SI37</th>\n",
       "      <td>330171.996945</td>\n",
       "      <td>8.852342</td>\n",
       "      <td>4.056957e+07</td>\n",
       "      <td>3479.0</td>\n",
       "      <td>0.000087</td>\n",
       "      <td>0.000658</td>\n",
       "      <td>19.6</td>\n",
       "      <td>3266.0</td>\n",
       "      <td>18.4</td>\n",
       "      <td>4454.0</td>\n",
       "      <td>25.1</td>\n",
       "      <td>55408.0</td>\n",
       "      <td>365025.0</td>\n",
       "      <td>89.7</td>\n",
       "    </tr>\n",
       "    <tr>\n",
       "      <th>SI45</th>\n",
       "      <td>369017.504339</td>\n",
       "      <td>16.155979</td>\n",
       "      <td>8.950481e+07</td>\n",
       "      <td>4593.0</td>\n",
       "      <td>0.000054</td>\n",
       "      <td>0.000248</td>\n",
       "      <td>1.0</td>\n",
       "      <td>1392.0</td>\n",
       "      <td>9.5</td>\n",
       "      <td>4582.0</td>\n",
       "      <td>31.1</td>\n",
       "      <td>74432.0</td>\n",
       "      <td>429999.0</td>\n",
       "      <td>91.6</td>\n",
       "    </tr>\n",
       "    <tr>\n",
       "      <th>SI48</th>\n",
       "      <td>407988.387475</td>\n",
       "      <td>10.137135</td>\n",
       "      <td>3.795766e+07</td>\n",
       "      <td>6470.0</td>\n",
       "      <td>0.000177</td>\n",
       "      <td>0.000719</td>\n",
       "      <td>1.9</td>\n",
       "      <td>1539.0</td>\n",
       "      <td>8.4</td>\n",
       "      <td>6094.0</td>\n",
       "      <td>33.4</td>\n",
       "      <td>83032.0</td>\n",
       "      <td>420163.0</td>\n",
       "      <td>97.4</td>\n",
       "    </tr>\n",
       "    <tr>\n",
       "      <th>SI54</th>\n",
       "      <td>332021.124435</td>\n",
       "      <td>11.051211</td>\n",
       "      <td>6.433897e+07</td>\n",
       "      <td>9747.0</td>\n",
       "      <td>0.000163</td>\n",
       "      <td>0.000737</td>\n",
       "      <td>0.1</td>\n",
       "      <td>2443.0</td>\n",
       "      <td>7.7</td>\n",
       "      <td>9927.0</td>\n",
       "      <td>31.3</td>\n",
       "      <td>89618.0</td>\n",
       "      <td>445621.0</td>\n",
       "      <td>98.0</td>\n",
       "    </tr>\n",
       "  </tbody>\n",
       "</table>\n",
       "<p>187 rows × 14 columns</p>\n",
       "</div>"
      ],
      "text/plain": [
       "            tree_id   tree_dbh    Shape_Area  tree counts  tree density  \\\n",
       "nta                                                                       \n",
       "BK09  120719.086586  12.268275  8.538518e+07       1655.0      0.000020   \n",
       "BK17  314681.361030  15.371963  4.383182e+07       4463.0      0.000105   \n",
       "BK19  301621.384865  12.962162  3.579964e+07       1053.0      0.000029   \n",
       "BK21  289929.227519   7.260022  5.543487e+07       1092.0      0.000020   \n",
       "BK23  276938.002660  12.231383  1.092484e+08        418.0      0.000013   \n",
       "...             ...        ...           ...          ...           ...   \n",
       "SI36  356144.454135  12.606488  5.806492e+07       4302.0      0.000094   \n",
       "SI37  330171.996945   8.852342  4.056957e+07       3479.0      0.000087   \n",
       "SI45  369017.504339  16.155979  8.950481e+07       4593.0      0.000054   \n",
       "SI48  407988.387475  10.137135  3.795766e+07       6470.0      0.000177   \n",
       "SI54  332021.124435  11.051211  6.433897e+07       9747.0      0.000163   \n",
       "\n",
       "      Population Density  Percent Black/African American  \\\n",
       "nta                                                        \n",
       "BK09            0.000281                             5.4   \n",
       "BK17            0.001512                             6.9   \n",
       "BK19            0.000934                             1.0   \n",
       "BK21            0.000529                            30.5   \n",
       "BK23            0.000468                             0.6   \n",
       "...                  ...                             ...   \n",
       "SI36            0.000542                             3.9   \n",
       "SI37            0.000658                            19.6   \n",
       "SI45            0.000248                             1.0   \n",
       "SI48            0.000719                             1.9   \n",
       "SI54            0.000737                             0.1   \n",
       "\n",
       "      Less than HS Grad Estimate  Less than HS Grad Percent  \\\n",
       "nta                                                           \n",
       "BK09                       468.0                        2.5   \n",
       "BK17                      6482.0                       13.8   \n",
       "BK19                      3131.0                       12.5   \n",
       "BK21                      5877.0                       30.0   \n",
       "BK23                       771.0                        5.7   \n",
       "...                          ...                        ...   \n",
       "SI36                      2147.0                       12.2   \n",
       "SI37                      3266.0                       18.4   \n",
       "SI45                      1392.0                        9.5   \n",
       "SI48                      1539.0                        8.4   \n",
       "SI54                      2443.0                        7.7   \n",
       "\n",
       "      Bachelor or Higher Estimate  Bachelor or Higher Percent  \\\n",
       "nta                                                             \n",
       "BK09                      14302.0                        77.3   \n",
       "BK17                      18509.0                        39.3   \n",
       "BK19                      10431.0                        41.8   \n",
       "BK21                       4324.0                        22.0   \n",
       "BK23                       6386.0                        47.6   \n",
       "...                           ...                         ...   \n",
       "SI36                       5072.0                        28.9   \n",
       "SI37                       4454.0                        25.1   \n",
       "SI45                       4582.0                        31.1   \n",
       "SI48                       6094.0                        33.4   \n",
       "SI54                       9927.0                        31.3   \n",
       "\n",
       "      Median HH Income Estimate  Median House Value Estimate  \\\n",
       "nta                                                            \n",
       "BK09                   102850.0                     732992.0   \n",
       "BK17                    51203.0                     472474.0   \n",
       "BK19                    33934.0                     542894.0   \n",
       "BK21                    23005.0                     421143.0   \n",
       "BK23                    38805.0                     274360.0   \n",
       "...                         ...                          ...   \n",
       "SI36                    64592.0                     435556.0   \n",
       "SI37                    55408.0                     365025.0   \n",
       "SI45                    74432.0                     429999.0   \n",
       "SI48                    83032.0                     420163.0   \n",
       "SI54                    89618.0                     445621.0   \n",
       "\n",
       "      Percent Occupied Units  \n",
       "nta                           \n",
       "BK09                    87.9  \n",
       "BK17                    91.5  \n",
       "BK19                    88.9  \n",
       "BK21                    89.4  \n",
       "BK23                    92.5  \n",
       "...                      ...  \n",
       "SI36                    91.4  \n",
       "SI37                    89.7  \n",
       "SI45                    91.6  \n",
       "SI48                    97.4  \n",
       "SI54                    98.0  \n",
       "\n",
       "[187 rows x 14 columns]"
      ]
     },
     "execution_count": 43,
     "metadata": {},
     "output_type": "execute_result"
    }
   ],
   "source": [
    "tree_demo_avg"
   ]
  },
  {
   "cell_type": "code",
   "execution_count": 44,
   "id": "bf688fd0",
   "metadata": {},
   "outputs": [],
   "source": [
    "features = tree_demo_avg[['tree_dbh', 'Population Density', 'Percent Black/African American','Bachelor or Higher Percent',\n",
    "                         'Median HH Income Estimate', 'Percent Occupied Units','Median House Value Estimate']].to_numpy()"
   ]
  },
  {
   "cell_type": "code",
   "execution_count": 45,
   "id": "f31d8120",
   "metadata": {},
   "outputs": [],
   "source": [
    "target = tree_demo_avg[['tree density']].to_numpy()"
   ]
  },
  {
   "cell_type": "code",
   "execution_count": 93,
   "id": "cee07df6",
   "metadata": {},
   "outputs": [],
   "source": [
    "X_train, X_test, y_train, y_test = train_test_split(features, target, test_size=0.2, random_state=18962882)"
   ]
  },
  {
   "cell_type": "markdown",
   "id": "417a3509",
   "metadata": {},
   "source": [
    "## Regression Model"
   ]
  },
  {
   "cell_type": "code",
   "execution_count": 94,
   "id": "2c99a544",
   "metadata": {},
   "outputs": [],
   "source": [
    "regr = linear_model.LinearRegression()"
   ]
  },
  {
   "cell_type": "code",
   "execution_count": 95,
   "id": "5714b0ac",
   "metadata": {},
   "outputs": [],
   "source": [
    "regr.fit(X_train, y_train)\n",
    "y_pred = regr.predict(X_test)"
   ]
  },
  {
   "cell_type": "code",
   "execution_count": 96,
   "id": "b5da4bb5",
   "metadata": {},
   "outputs": [
    {
     "name": "stdout",
     "output_type": "stream",
     "text": [
      "MULTIPLE REGRESSION MODEL\n",
      "\n",
      "Model Parameters or coefficient values for \"a\":\n",
      "[[ 3.59080211e-06  4.86898758e-02 -3.08109951e-07 -1.85381757e-06\n",
      "   1.75144031e-09  2.69060338e-06 -2.23458752e-12]]\n",
      "Intercept or coefficient value for \"b\":\n",
      "[-0.00029077]\n",
      "\n",
      "MODEL ACCURACY:\n",
      "0.6337470069544167\n",
      "\n"
     ]
    }
   ],
   "source": [
    "print('MULTIPLE REGRESSION MODEL')\n",
    "print()\n",
    "print('Model Parameters or coefficient values for \"a\":')\n",
    "print(regr.coef_)\n",
    "print('Intercept or coefficient value for \"b\":')\n",
    "print(regr.intercept_)\n",
    "print()\n",
    "print('MODEL ACCURACY:')\n",
    "print(regr.score(X_train, y_train))\n",
    "print()"
   ]
  },
  {
   "cell_type": "code",
   "execution_count": 97,
   "id": "28c4cfb9",
   "metadata": {},
   "outputs": [
    {
     "data": {
      "text/plain": [
       "1.884929078144911e-09"
      ]
     },
     "execution_count": 97,
     "metadata": {},
     "output_type": "execute_result"
    }
   ],
   "source": [
    "mean_squared_error(y_test,y_pred)"
   ]
  },
  {
   "cell_type": "code",
   "execution_count": 98,
   "id": "416b07e9",
   "metadata": {},
   "outputs": [
    {
     "name": "stdout",
     "output_type": "stream",
     "text": [
      "0.6202335066129203\n"
     ]
    }
   ],
   "source": [
    "r2_score(y_test, y_pred)\n",
    "\n",
    "print(r2_score(y_test, y_pred))"
   ]
  },
  {
   "cell_type": "code",
   "execution_count": 99,
   "id": "50b7854f",
   "metadata": {},
   "outputs": [
    {
     "data": {
      "text/plain": [
       "(187, 3)"
      ]
     },
     "execution_count": 99,
     "metadata": {},
     "output_type": "execute_result"
    }
   ],
   "source": [
    "#calculate residual of all data\n",
    "\n",
    "residuals_table_all = pd.DataFrame(target)\n",
    "residuals_table_all = residuals_table_all.rename(columns={0:'target'})\n",
    "\n",
    "residuals_table_all['Y_HAT'] = regr.predict(features).reshape((-1, 1))\n",
    "residuals_table_all['Residuals'] = residuals_table_all['Y_HAT'] - residuals_table_all['target']\n",
    "\n",
    "residuals_table_all.shape"
   ]
  },
  {
   "cell_type": "code",
   "execution_count": 92,
   "id": "a21a6f3b",
   "metadata": {},
   "outputs": [
    {
     "data": {
      "text/plain": [
       "Text(0, 0.5, 'Residuals')"
      ]
     },
     "execution_count": 92,
     "metadata": {},
     "output_type": "execute_result"
    },
    {
     "data": {
      "image/png": "[encoded data removed]",
      "text/plain": [
       "<Figure size 432x288 with 1 Axes>"
      ]
     },
     "metadata": {
      "needs_background": "light"
     },
     "output_type": "display_data"
    }
   ],
   "source": [
    "sns.residplot(x=np.arange(0,187,1),y=residuals_table_all['Residuals'],lowess=True)\n",
    "plt.xlabel('x')\n",
    "plt.ylabel('Residuals')"
   ]
  },
  {
   "cell_type": "markdown",
   "id": "ae0001bc",
   "metadata": {},
   "source": [
    "## Polyfit Model"
   ]
  },
  {
   "cell_type": "code",
   "execution_count": 110,
   "id": "e45c47a5",
   "metadata": {},
   "outputs": [],
   "source": [
    "poly = PolynomialFeatures(2, include_bias=False)\n",
    "poly_features = poly.fit_transform(features)\n",
    "X_train, X_test, y_train, y_test = train_test_split(poly_features, target, test_size=0.2, random_state=18962882)"
   ]
  },
  {
   "cell_type": "code",
   "execution_count": 111,
   "id": "c257f7db",
   "metadata": {},
   "outputs": [
    {
     "data": {
      "text/plain": [
       "LinearRegression()"
      ]
     },
     "execution_count": 111,
     "metadata": {},
     "output_type": "execute_result"
    }
   ],
   "source": [
    "poly_reg_model = linear_model.LinearRegression()\n",
    "poly_reg_model.fit(X_train, y_train)"
   ]
  },
  {
   "cell_type": "code",
   "execution_count": 112,
   "id": "981c2e28",
   "metadata": {},
   "outputs": [
    {
     "name": "stdout",
     "output_type": "stream",
     "text": [
      "2.833110528958655e-09\n"
     ]
    }
   ],
   "source": [
    "poly_reg_y_predicted = poly_reg_model.predict(X_test)\n",
    "poly_reg_mse = mean_squared_error(y_test, poly_reg_y_predicted)\n",
    "print(poly_reg_mse)"
   ]
  },
  {
   "cell_type": "code",
   "execution_count": 113,
   "id": "e277acac",
   "metadata": {},
   "outputs": [
    {
     "name": "stdout",
     "output_type": "stream",
     "text": [
      "0.796982916032543\n"
     ]
    }
   ],
   "source": [
    "print(poly_reg_model.score(X_train, y_train))"
   ]
  },
  {
   "cell_type": "code",
   "execution_count": 114,
   "id": "4788b371",
   "metadata": {},
   "outputs": [
    {
     "name": "stdout",
     "output_type": "stream",
     "text": [
      "0.42919844389077455\n"
     ]
    }
   ],
   "source": [
    "print(r2_score(y_test, poly_reg_y_predicted))"
   ]
  },
  {
   "cell_type": "code",
   "execution_count": null,
   "id": "9a3bcb5d",
   "metadata": {},
   "outputs": [],
   "source": []
  },
  {
   "cell_type": "code",
   "execution_count": null,
   "id": "af7f7529",
   "metadata": {},
   "outputs": [],
   "source": []
  }
 ],
 "metadata": {
  "kernelspec": {
   "display_name": "Python 3 (ipykernel)",
   "language": "python",
   "name": "python3"
  },
  "language_info": {
   "codemirror_mode": {
    "name": "ipython",
    "version": 3
   },
   "file_extension": ".py",
   "mimetype": "text/x-python",
   "name": "python",
   "nbconvert_exporter": "python",
   "pygments_lexer": "ipython3",
   "version": "3.9.12"
  }
 },
 "nbformat": 4,
 "nbformat_minor": 5
}
